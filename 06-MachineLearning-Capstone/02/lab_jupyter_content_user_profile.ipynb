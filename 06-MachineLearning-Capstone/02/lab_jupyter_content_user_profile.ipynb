{
 "cells": [
  {
   "cell_type": "markdown",
   "id": "2d025687-d0cf-4c34-9fc8-364c1ade7e99",
   "metadata": {},
   "source": [
    "<p style=\"text-align:center\">\n",
    "    <a href=\"https://skills.network/?utm_medium=Exinfluencer&utm_source=Exinfluencer&utm_content=000026UJ&utm_term=10006555&utm_id=NA-SkillsNetwork-Channel-SkillsNetworkCoursesIBMML321ENSkillsNetwork817-2022-01-01\" target=\"_blank\">\n",
    "    <img src=\"https://cf-courses-data.s3.us.cloud-object-storage.appdomain.cloud/assets/logos/SN_web_lightmode.png\" width=\"200\" alt=\"Skills Network Logo\">\n",
    "    </a>\n",
    "</p>\n"
   ]
  },
  {
   "cell_type": "markdown",
   "id": "d7edda55-d242-43ab-9212-8c41171c30e4",
   "metadata": {},
   "source": [
    "# **Content-based Course Recommender System Using User Profile and Course Genres**\n"
   ]
  },
  {
   "cell_type": "markdown",
   "id": "0d9290ed-1b52-4eb3-9744-7413b4f44164",
   "metadata": {},
   "source": [
    "Estimated time needed: **60** minutes\n"
   ]
  },
  {
   "cell_type": "markdown",
   "id": "01bd5922-a603-47fe-941b-b88af650de4f",
   "metadata": {},
   "source": [
    "The most common type of content-based recommendation system is to recommend items to users based on their profiles. The user's profile revolves around that user's preferences and tastes. It is shaped based on user ratings, including the number of times a user has clicked on different items or liked those items.\n",
    "\n",
    "The recommendation process is based on the similarity between those items. The similarity or closeness of items is measured based on the similarity in the content of those items. When we say content, we're talking about things like the item's category, tag, genre, and so on. Essentially the features about an item.\n"
   ]
  },
  {
   "cell_type": "markdown",
   "id": "4836051f-808b-4e8a-bb6c-f6ad01e71c93",
   "metadata": {},
   "source": [
    "For online course recommender systems, we already know how to extract features from courses (such as genres or BoW features). Next, based on the course genres and users' ratings, we want to further build user profiles (if unknown). \n",
    "\n",
    "A user profile can be seen as the user feature vector that mathematically represents a user's learning interests.\n"
   ]
  },
  {
   "cell_type": "markdown",
   "id": "2e1c88e3-85ac-4fab-ab1f-1ea9ce2ad0df",
   "metadata": {},
   "source": [
    "With the user profile feature vectors and course genre feature vectors constructed, we can use several computational methods, such as a simple dot product, to compute or predict an interest score for each course and recommend those courses with high interest scores.\n"
   ]
  },
  {
   "cell_type": "markdown",
   "id": "25678ab2-9f2b-4fdb-9059-aab7bbfce99a",
   "metadata": {},
   "source": [
    "![](https://cf-courses-data.s3.us.cloud-object-storage.appdomain.cloud/IBM-ML321EN-SkillsNetwork/labs/module_3/images/user_profile_score.png)\n"
   ]
  },
  {
   "cell_type": "markdown",
   "id": "0058c570-92a7-4312-afc1-75dfb16d5e47",
   "metadata": {},
   "source": [
    "## Objectives\n"
   ]
  },
  {
   "cell_type": "markdown",
   "id": "d8767d0a-3361-410e-9ef1-f155a29cd190",
   "metadata": {},
   "source": [
    "After completing this lab you will be able to:\n"
   ]
  },
  {
   "cell_type": "markdown",
   "id": "2264d353-9ba1-438d-b455-ce57f578c9b9",
   "metadata": {},
   "source": [
    "* Generate a user profile based on course genres and rating\n",
    "* Generate course recommendations based on a user's profile and course genres\n"
   ]
  },
  {
   "cell_type": "markdown",
   "id": "5f040355-fa90-41d6-9721-ae14f9857afb",
   "metadata": {},
   "source": [
    "----\n"
   ]
  },
  {
   "cell_type": "markdown",
   "id": "234b1c10-a30b-4cf2-9e34-dd1c4007ace2",
   "metadata": {},
   "source": [
    "## Prepare and setup the lab environment\n"
   ]
  },
  {
   "cell_type": "markdown",
   "id": "b24a37b5-36ad-4624-9d1e-c3e73a6dc08c",
   "metadata": {},
   "source": [
    "First, let's install and import the required packages.\n"
   ]
  },
  {
   "cell_type": "code",
   "execution_count": 1,
   "id": "ab795c67-dcb3-4b29-b0c9-7307386c87eb",
   "metadata": {},
   "outputs": [
    {
     "name": "stdout",
     "output_type": "stream",
     "text": [
      "Requirement already satisfied: scikit-learn in /opt/homebrew/Caskroom/miniconda/base/envs/aiadventures/lib/python3.12/site-packages (1.5.1)\n",
      "Requirement already satisfied: numpy>=1.19.5 in /opt/homebrew/Caskroom/miniconda/base/envs/aiadventures/lib/python3.12/site-packages (from scikit-learn) (1.26.4)\n",
      "Requirement already satisfied: scipy>=1.6.0 in /opt/homebrew/Caskroom/miniconda/base/envs/aiadventures/lib/python3.12/site-packages (from scikit-learn) (1.13.1)\n",
      "Requirement already satisfied: joblib>=1.2.0 in /opt/homebrew/Caskroom/miniconda/base/envs/aiadventures/lib/python3.12/site-packages (from scikit-learn) (1.4.2)\n",
      "Requirement already satisfied: threadpoolctl>=3.1.0 in /opt/homebrew/Caskroom/miniconda/base/envs/aiadventures/lib/python3.12/site-packages (from scikit-learn) (3.5.0)\n",
      "Note: you may need to restart the kernel to use updated packages.\n",
      "Requirement already satisfied: pandas in /opt/homebrew/Caskroom/miniconda/base/envs/aiadventures/lib/python3.12/site-packages (2.2.2)\n",
      "Requirement already satisfied: numpy>=1.26.0 in /opt/homebrew/Caskroom/miniconda/base/envs/aiadventures/lib/python3.12/site-packages (from pandas) (1.26.4)\n",
      "Requirement already satisfied: python-dateutil>=2.8.2 in /opt/homebrew/Caskroom/miniconda/base/envs/aiadventures/lib/python3.12/site-packages (from pandas) (2.9.0)\n",
      "Requirement already satisfied: pytz>=2020.1 in /opt/homebrew/Caskroom/miniconda/base/envs/aiadventures/lib/python3.12/site-packages (from pandas) (2024.1)\n",
      "Requirement already satisfied: tzdata>=2022.7 in /opt/homebrew/Caskroom/miniconda/base/envs/aiadventures/lib/python3.12/site-packages (from pandas) (2024.1)\n",
      "Requirement already satisfied: six>=1.5 in /opt/homebrew/Caskroom/miniconda/base/envs/aiadventures/lib/python3.12/site-packages (from python-dateutil>=2.8.2->pandas) (1.16.0)\n",
      "Note: you may need to restart the kernel to use updated packages.\n"
     ]
    }
   ],
   "source": [
    "%pip install scikit-learn\n",
    "%pip install pandas"
   ]
  },
  {
   "cell_type": "code",
   "execution_count": 2,
   "id": "1e7bc974-11c6-4969-bdc7-f10de2d8e5c8",
   "metadata": {},
   "outputs": [],
   "source": [
    "import pandas as pd\n",
    "import numpy as np\n",
    "from sklearn import preprocessing"
   ]
  },
  {
   "cell_type": "code",
   "execution_count": 3,
   "id": "81e078a7-d06a-4eeb-8ad5-226637ca1428",
   "metadata": {},
   "outputs": [],
   "source": [
    "# also set a random state\n",
    "rs = 123"
   ]
  },
  {
   "cell_type": "markdown",
   "id": "204e44f0-f3ee-4754-a938-9cc3c969f746",
   "metadata": {},
   "source": [
    "### Lets generate user profiles using course genres and ratings\n"
   ]
  },
  {
   "cell_type": "markdown",
   "id": "75e00f0d-868a-4921-9e17-2a1b37eb9d54",
   "metadata": {},
   "source": [
    "Suppose we have a very simple course genre dataset that contains only three genres: `Python`, `Database`, and `MachineLearning`.  \n",
    "\n",
    "We also have two courses: `Machine Learning with Python` and `SQL Learning with Python` and their genres as follows:\n"
   ]
  },
  {
   "cell_type": "code",
   "execution_count": 4,
   "id": "ea1dc3b8-3d2a-4189-9465-755419f99363",
   "metadata": {},
   "outputs": [
    {
     "data": {
      "text/html": [
       "<div>\n",
       "<style scoped>\n",
       "    .dataframe tbody tr th:only-of-type {\n",
       "        vertical-align: middle;\n",
       "    }\n",
       "\n",
       "    .dataframe tbody tr th {\n",
       "        vertical-align: top;\n",
       "    }\n",
       "\n",
       "    .dataframe thead th {\n",
       "        text-align: right;\n",
       "    }\n",
       "</style>\n",
       "<table border=\"1\" class=\"dataframe\">\n",
       "  <thead>\n",
       "    <tr style=\"text-align: right;\">\n",
       "      <th></th>\n",
       "      <th>Title</th>\n",
       "      <th>Python</th>\n",
       "      <th>Database</th>\n",
       "      <th>MachineLearning</th>\n",
       "    </tr>\n",
       "  </thead>\n",
       "  <tbody>\n",
       "    <tr>\n",
       "      <th>0</th>\n",
       "      <td>Machine Learning with Python</td>\n",
       "      <td>1</td>\n",
       "      <td>0</td>\n",
       "      <td>1</td>\n",
       "    </tr>\n",
       "    <tr>\n",
       "      <th>1</th>\n",
       "      <td>SQL with Python</td>\n",
       "      <td>1</td>\n",
       "      <td>1</td>\n",
       "      <td>0</td>\n",
       "    </tr>\n",
       "  </tbody>\n",
       "</table>\n",
       "</div>"
      ],
      "text/plain": [
       "                          Title  Python  Database  MachineLearning\n",
       "0  Machine Learning with Python       1         0                1\n",
       "1               SQL with Python       1         1                0"
      ]
     },
     "execution_count": 4,
     "metadata": {},
     "output_type": "execute_result"
    }
   ],
   "source": [
    "course_genres = ['Python', 'Database', 'MachineLearning']\n",
    "courses = [['Machine Learning with Python', 1, 0, 1], [\"SQL with Python\", 1, 1, 0]]\n",
    "courses_df = pd.DataFrame(courses, columns = ['Title'] + course_genres)\n",
    "courses_df"
   ]
  },
  {
   "cell_type": "markdown",
   "id": "c604005a-7269-4561-88c7-bb63ef52902d",
   "metadata": {},
   "source": [
    "As we can see from the dataset:\n",
    "- Course `Machine Learning with Python` has `Python` and `MachineLearning` genres\n",
    "- Course `SQL with Python` has `Python` and `Database` genres\n"
   ]
  },
  {
   "cell_type": "markdown",
   "id": "3374595d-48a0-4f45-b1a5-e949f8efef3d",
   "metadata": {},
   "source": [
    "Then let's create another simple user rating dataframe containing the ratings from two users.\n"
   ]
  },
  {
   "cell_type": "code",
   "execution_count": 5,
   "id": "f9c800f0-2640-49c0-8393-5171685bc7ba",
   "metadata": {},
   "outputs": [
    {
     "data": {
      "text/html": [
       "<div>\n",
       "<style scoped>\n",
       "    .dataframe tbody tr th:only-of-type {\n",
       "        vertical-align: middle;\n",
       "    }\n",
       "\n",
       "    .dataframe tbody tr th {\n",
       "        vertical-align: top;\n",
       "    }\n",
       "\n",
       "    .dataframe thead th {\n",
       "        text-align: right;\n",
       "    }\n",
       "</style>\n",
       "<table border=\"1\" class=\"dataframe\">\n",
       "  <thead>\n",
       "    <tr style=\"text-align: right;\">\n",
       "      <th></th>\n",
       "      <th>User</th>\n",
       "      <th>Title</th>\n",
       "      <th>Rating</th>\n",
       "    </tr>\n",
       "  </thead>\n",
       "  <tbody>\n",
       "    <tr>\n",
       "      <th>0</th>\n",
       "      <td>user0</td>\n",
       "      <td>Machine Learning with Python</td>\n",
       "      <td>3</td>\n",
       "    </tr>\n",
       "    <tr>\n",
       "      <th>1</th>\n",
       "      <td>user1</td>\n",
       "      <td>SQL with Python</td>\n",
       "      <td>2</td>\n",
       "    </tr>\n",
       "  </tbody>\n",
       "</table>\n",
       "</div>"
      ],
      "text/plain": [
       "    User                         Title  Rating\n",
       "0  user0  Machine Learning with Python       3\n",
       "1  user1               SQL with Python       2"
      ]
     },
     "execution_count": 5,
     "metadata": {},
     "output_type": "execute_result"
    }
   ],
   "source": [
    "users = [['user0', 'Machine Learning with Python', 3], ['user1', 'SQL with Python', 2]]\n",
    "users_df = pd.DataFrame(users, columns = ['User', 'Title', 'Rating'])\n",
    "users_df"
   ]
  },
  {
   "cell_type": "markdown",
   "id": "dc3cb255-25e9-41c3-a571-a99344aaf2bd",
   "metadata": {},
   "source": [
    "Suppose **user0** rated `Machine Learning with Python` as 3 (completed with a certificate)  and **user1** rated `SQL with Python` as 2 (just audited or not completed).\n",
    "\n",
    "Based on their course ratings and course genres. Can we generate a profile vector for each user?\n"
   ]
  },
  {
   "cell_type": "markdown",
   "id": "87390155-8ca9-417d-8550-92a10ecfae9e",
   "metadata": {},
   "source": [
    "Intuitively, since user0 has completed the course `Machine Learning with Python`, they should be interested in those genres associated with the course, i.e.,Machine Learning and Python. \n",
    "\n",
    "On the other hand, user0 has not taken the `SQL with Python` so it is likely they are not interested in the database genre.\n"
   ]
  },
  {
   "cell_type": "markdown",
   "id": "0eec47e8-d22e-4dcb-bbbc-026b1cb428fe",
   "metadata": {},
   "source": [
    "To quantify such user interests, we could multiply user0's rating vector with a course genre matrix and get the weighted genre's vector for the courses:\n"
   ]
  },
  {
   "cell_type": "code",
   "execution_count": 6,
   "id": "72fac78b-d804-4bb9-bd10-1b4b672e836a",
   "metadata": {},
   "outputs": [],
   "source": [
    "# User 0 rated course 0 as 3 and course 1 as 0/NA (unknown or not interested)\n",
    "u0 = np.array([[3, 0]])"
   ]
  },
  {
   "cell_type": "code",
   "execution_count": 7,
   "id": "c8be96e3-2f34-4421-ba29-9f301e7ba500",
   "metadata": {},
   "outputs": [],
   "source": [
    "# The course genre's matrix\n",
    "C = courses_df[['Python', 'Database', 'MachineLearning']].to_numpy()"
   ]
  },
  {
   "cell_type": "markdown",
   "id": "4ae7341a-e35a-4c39-8b77-aa994b0332a9",
   "metadata": {},
   "source": [
    "Before multiple them, let's first print their shapes:\n"
   ]
  },
  {
   "cell_type": "code",
   "execution_count": 8,
   "id": "76bbd399-fa24-427d-9d29-05785b865f37",
   "metadata": {},
   "outputs": [
    {
     "name": "stdout",
     "output_type": "stream",
     "text": [
      "User profile vector shape (1, 2) and course genre matrix shape (2, 3)\n"
     ]
    }
   ],
   "source": [
    "print(f\"User profile vector shape {u0.shape} and course genre matrix shape {C.shape}\")"
   ]
  },
  {
   "cell_type": "markdown",
   "id": "74ec42ef-7b89-4c66-98bb-a13155a21145",
   "metadata": {},
   "source": [
    "If we multiple a $1 x 2$ vector with a $2 x 3$ matrix, we will get a 1 x 3 vector representing the user profile vector.\n"
   ]
  },
  {
   "cell_type": "markdown",
   "id": "f0003c32-5da5-46b3-a644-c89709629606",
   "metadata": {},
   "source": [
    "$$u_0C = \\begin{bmatrix} 3 & 0 \\end{bmatrix} \\begin{bmatrix} 1 & 0 & 1 \\\\\\\\\\\\\\\\ 1 & 1 & 0 \\end{bmatrix}$$\n"
   ]
  },
  {
   "cell_type": "code",
   "execution_count": 9,
   "id": "dab6e77d-3141-46f5-953b-67cfb1e0ecbf",
   "metadata": {},
   "outputs": [
    {
     "data": {
      "text/plain": [
       "array([[3, 0, 3]])"
      ]
     },
     "execution_count": 9,
     "metadata": {},
     "output_type": "execute_result"
    }
   ],
   "source": [
    "u0_weights = np.matmul(u0, C)\n",
    "u0_weights"
   ]
  },
  {
   "cell_type": "code",
   "execution_count": 10,
   "id": "506d881b-868f-40ee-a5ea-e4bb41614512",
   "metadata": {},
   "outputs": [
    {
     "data": {
      "text/plain": [
       "['Python', 'Database', 'MachineLearning']"
      ]
     },
     "execution_count": 10,
     "metadata": {},
     "output_type": "execute_result"
    }
   ],
   "source": [
    "course_genres"
   ]
  },
  {
   "cell_type": "markdown",
   "id": "79a6ca95-f610-4641-8799-56bbb235ec48",
   "metadata": {},
   "source": [
    "Let's take a look at the result. This `u0_weights` is also called the weighted genre vector and represents the interests of the user for each genre based on the courses they have rated. As we can see from the results, user0 seems interested in `Python` and `MachineLearning` with a rating of 3.\n"
   ]
  },
  {
   "cell_type": "markdown",
   "id": "10d6e6c2-7fc9-40b5-a204-bf6082f42d3f",
   "metadata": {},
   "source": [
    "Similarly, we can calculate the weighted genre matrix for user 1:\n"
   ]
  },
  {
   "cell_type": "markdown",
   "id": "70172e63-3701-4dd1-bcf5-89feecd75a94",
   "metadata": {},
   "source": [
    "$$u_1C = \\begin{bmatrix} 0 & 2 \\end{bmatrix} \\begin{bmatrix} 1 & 0 & 1 \\\\\\\\\\\\\\\\ 1 & 1 & 0 \\end{bmatrix}$$\n"
   ]
  },
  {
   "cell_type": "code",
   "execution_count": 11,
   "id": "d2cfac00-4b87-468b-84b2-5e2eb74c08e2",
   "metadata": {},
   "outputs": [],
   "source": [
    "# User 1 rated course 0 as 0 (unknown or not interested) and course 1 as 2\n",
    "u1 = np.array([[0, 2]])"
   ]
  },
  {
   "cell_type": "code",
   "execution_count": 12,
   "id": "bc0d2435-da6f-4d1d-9783-bcd4758330fc",
   "metadata": {},
   "outputs": [
    {
     "data": {
      "text/plain": [
       "array([[2, 2, 0]])"
      ]
     },
     "execution_count": 12,
     "metadata": {},
     "output_type": "execute_result"
    }
   ],
   "source": [
    "u1_weights = np.matmul(u1, C)\n",
    "u1_weights"
   ]
  },
  {
   "cell_type": "markdown",
   "id": "d143832b-3c0f-46d2-83d7-5135429943c3",
   "metadata": {},
   "source": [
    "As we can see from the `u1_weights` vector, user1 seems very interested in `Python` and `Database` with a value 2.\n"
   ]
  },
  {
   "cell_type": "markdown",
   "id": "658689dc-17ca-4049-b935-5376dda3523b",
   "metadata": {},
   "source": [
    "Let's combine the two weighted genre vectors and create a user profile dataframe:\n"
   ]
  },
  {
   "cell_type": "code",
   "execution_count": 13,
   "id": "a13b9290-7c02-41d5-8a2a-b0ca00b58935",
   "metadata": {},
   "outputs": [],
   "source": [
    "weights = np.concatenate((u0_weights.reshape(1, 3), u1_weights.reshape(1, 3)), axis=0)\n",
    "profiles_df = pd.DataFrame(weights, columns=['Python', 'Database', 'MachineLearning'])\n",
    "profiles_df.insert(0, 'user', ['user0', 'user1'])"
   ]
  },
  {
   "cell_type": "code",
   "execution_count": 14,
   "id": "4e0cabd4-dae1-42e4-b1c7-fc4f81c60e0b",
   "metadata": {},
   "outputs": [
    {
     "data": {
      "text/html": [
       "<div>\n",
       "<style scoped>\n",
       "    .dataframe tbody tr th:only-of-type {\n",
       "        vertical-align: middle;\n",
       "    }\n",
       "\n",
       "    .dataframe tbody tr th {\n",
       "        vertical-align: top;\n",
       "    }\n",
       "\n",
       "    .dataframe thead th {\n",
       "        text-align: right;\n",
       "    }\n",
       "</style>\n",
       "<table border=\"1\" class=\"dataframe\">\n",
       "  <thead>\n",
       "    <tr style=\"text-align: right;\">\n",
       "      <th></th>\n",
       "      <th>user</th>\n",
       "      <th>Python</th>\n",
       "      <th>Database</th>\n",
       "      <th>MachineLearning</th>\n",
       "    </tr>\n",
       "  </thead>\n",
       "  <tbody>\n",
       "    <tr>\n",
       "      <th>0</th>\n",
       "      <td>user0</td>\n",
       "      <td>3</td>\n",
       "      <td>0</td>\n",
       "      <td>3</td>\n",
       "    </tr>\n",
       "    <tr>\n",
       "      <th>1</th>\n",
       "      <td>user1</td>\n",
       "      <td>2</td>\n",
       "      <td>2</td>\n",
       "      <td>0</td>\n",
       "    </tr>\n",
       "  </tbody>\n",
       "</table>\n",
       "</div>"
      ],
      "text/plain": [
       "    user  Python  Database  MachineLearning\n",
       "0  user0       3         0                3\n",
       "1  user1       2         2                0"
      ]
     },
     "execution_count": 14,
     "metadata": {},
     "output_type": "execute_result"
    }
   ],
   "source": [
    "profiles_df"
   ]
  },
  {
   "cell_type": "markdown",
   "id": "e3ef511c-3a5e-4d81-9d57-2a90a8cc9076",
   "metadata": {},
   "source": [
    "Now this `profiles_df` clearly shows the user profiles or course interests.\n"
   ]
  },
  {
   "cell_type": "markdown",
   "id": "9ad4d0f3-e152-4264-99cf-efa1d19c0f2d",
   "metadata": {},
   "source": [
    "### Generate recommendation scores for some new courses\n"
   ]
  },
  {
   "cell_type": "markdown",
   "id": "1130cc8e-dab9-4ae8-b102-46f470fb28a3",
   "metadata": {},
   "source": [
    "With the user profiles generated, we can see that `user0` is very interested in Python and machine learning, and `user1` is very interested in Python and database.\n"
   ]
  },
  {
   "cell_type": "markdown",
   "id": "61018369-97c1-4e97-9914-ccae928bea27",
   "metadata": {},
   "source": [
    "Now, suppose we published some new courses titled as `Python 101`, `Database 101`, and `Machine Learning with R`:\n"
   ]
  },
  {
   "cell_type": "code",
   "execution_count": 15,
   "id": "92f2ac22-834f-45cc-8d9d-fcbc748a1fc6",
   "metadata": {},
   "outputs": [
    {
     "data": {
      "text/html": [
       "<div>\n",
       "<style scoped>\n",
       "    .dataframe tbody tr th:only-of-type {\n",
       "        vertical-align: middle;\n",
       "    }\n",
       "\n",
       "    .dataframe tbody tr th {\n",
       "        vertical-align: top;\n",
       "    }\n",
       "\n",
       "    .dataframe thead th {\n",
       "        text-align: right;\n",
       "    }\n",
       "</style>\n",
       "<table border=\"1\" class=\"dataframe\">\n",
       "  <thead>\n",
       "    <tr style=\"text-align: right;\">\n",
       "      <th></th>\n",
       "      <th>Title</th>\n",
       "      <th>Python</th>\n",
       "      <th>Database</th>\n",
       "      <th>MachineLearning</th>\n",
       "    </tr>\n",
       "  </thead>\n",
       "  <tbody>\n",
       "    <tr>\n",
       "      <th>0</th>\n",
       "      <td>Python 101</td>\n",
       "      <td>1</td>\n",
       "      <td>0</td>\n",
       "      <td>0</td>\n",
       "    </tr>\n",
       "    <tr>\n",
       "      <th>1</th>\n",
       "      <td>Database 101</td>\n",
       "      <td>0</td>\n",
       "      <td>1</td>\n",
       "      <td>0</td>\n",
       "    </tr>\n",
       "    <tr>\n",
       "      <th>2</th>\n",
       "      <td>Machine Learning with R</td>\n",
       "      <td>0</td>\n",
       "      <td>0</td>\n",
       "      <td>1</td>\n",
       "    </tr>\n",
       "  </tbody>\n",
       "</table>\n",
       "</div>"
      ],
      "text/plain": [
       "                     Title  Python  Database  MachineLearning\n",
       "0               Python 101       1         0                0\n",
       "1             Database 101       0         1                0\n",
       "2  Machine Learning with R       0         0                1"
      ]
     },
     "execution_count": 15,
     "metadata": {},
     "output_type": "execute_result"
    }
   ],
   "source": [
    "new_courses = [['Python 101', 1, 0, 0], [\"Database 101\", 0, 1, 0], [\"Machine Learning with R\", 0, 0, 1]]\n",
    "new_courses_df = pd.DataFrame(new_courses, columns = ['Title', 'Python', 'Database', 'MachineLearning'])\n",
    "new_courses_df"
   ]
  },
  {
   "cell_type": "markdown",
   "id": "ff0e64b5-d74f-47f5-87c6-d7470661999a",
   "metadata": {},
   "source": [
    "Next, how can we calculate a recommendation score for each new course with respect to `user0` and `user1`, using user profile vectors and genre vectors?\n"
   ]
  },
  {
   "cell_type": "markdown",
   "id": "21d375f1-5b67-4f4f-9cef-f0094d92ad5f",
   "metadata": {},
   "source": [
    "One simple but effective way is to apply the dot product to the user profile vector and course genre vector (as they always have the same shape). Since we have two users and three courses, we need to perform a matrix multiplication:\n"
   ]
  },
  {
   "cell_type": "code",
   "execution_count": 16,
   "id": "8bd703cf-6691-4c76-ad81-f40189c964d1",
   "metadata": {},
   "outputs": [
    {
     "data": {
      "text/html": [
       "<div>\n",
       "<style scoped>\n",
       "    .dataframe tbody tr th:only-of-type {\n",
       "        vertical-align: middle;\n",
       "    }\n",
       "\n",
       "    .dataframe tbody tr th {\n",
       "        vertical-align: top;\n",
       "    }\n",
       "\n",
       "    .dataframe thead th {\n",
       "        text-align: right;\n",
       "    }\n",
       "</style>\n",
       "<table border=\"1\" class=\"dataframe\">\n",
       "  <thead>\n",
       "    <tr style=\"text-align: right;\">\n",
       "      <th></th>\n",
       "      <th>user</th>\n",
       "      <th>Python</th>\n",
       "      <th>Database</th>\n",
       "      <th>MachineLearning</th>\n",
       "    </tr>\n",
       "  </thead>\n",
       "  <tbody>\n",
       "    <tr>\n",
       "      <th>0</th>\n",
       "      <td>user0</td>\n",
       "      <td>3</td>\n",
       "      <td>0</td>\n",
       "      <td>3</td>\n",
       "    </tr>\n",
       "    <tr>\n",
       "      <th>1</th>\n",
       "      <td>user1</td>\n",
       "      <td>2</td>\n",
       "      <td>2</td>\n",
       "      <td>0</td>\n",
       "    </tr>\n",
       "  </tbody>\n",
       "</table>\n",
       "</div>"
      ],
      "text/plain": [
       "    user  Python  Database  MachineLearning\n",
       "0  user0       3         0                3\n",
       "1  user1       2         2                0"
      ]
     },
     "execution_count": 16,
     "metadata": {},
     "output_type": "execute_result"
    }
   ],
   "source": [
    "profiles_df"
   ]
  },
  {
   "cell_type": "markdown",
   "id": "35dc4ab4-88e5-457e-a978-d053f3c30551",
   "metadata": {},
   "source": [
    "Let's convert the course genre dataframe into a 2-D numpy array:\n"
   ]
  },
  {
   "cell_type": "code",
   "execution_count": 17,
   "id": "10921c26-63bb-4141-abab-6724bacdf1ee",
   "metadata": {},
   "outputs": [
    {
     "data": {
      "text/plain": [
       "array([[1, 0, 0],\n",
       "       [0, 1, 0],\n",
       "       [0, 0, 1]])"
      ]
     },
     "execution_count": 17,
     "metadata": {},
     "output_type": "execute_result"
    }
   ],
   "source": [
    "# Drop the title column\n",
    "new_courses_df = new_courses_df.loc[:, new_courses_df.columns != 'Title']\n",
    "course_matrix = new_courses_df.values\n",
    "course_matrix"
   ]
  },
  {
   "cell_type": "code",
   "execution_count": 18,
   "id": "df66d10d-ce37-4b74-9458-988753e47c17",
   "metadata": {},
   "outputs": [
    {
     "data": {
      "text/plain": [
       "(3, 3)"
      ]
     },
     "execution_count": 18,
     "metadata": {},
     "output_type": "execute_result"
    }
   ],
   "source": [
    "# course matrix shape\n",
    "course_matrix.shape"
   ]
  },
  {
   "cell_type": "markdown",
   "id": "6f1e6840-bde7-457a-969c-dab5e2af6960",
   "metadata": {},
   "source": [
    "As we can see from the above output, the course matrix is a `3 x 3` matrix and each row vector is a course genre vector.\n"
   ]
  },
  {
   "cell_type": "markdown",
   "id": "112befe9-76fe-42b8-971f-60e15c63c286",
   "metadata": {},
   "source": [
    "Then we can convert the user profile dataframe into another 2-d numpy array:\n"
   ]
  },
  {
   "cell_type": "code",
   "execution_count": 19,
   "id": "b95db421-451f-403a-8d94-9728ac3b7b7d",
   "metadata": {},
   "outputs": [
    {
     "data": {
      "text/plain": [
       "array([[3, 0, 3],\n",
       "       [2, 2, 0]])"
      ]
     },
     "execution_count": 19,
     "metadata": {},
     "output_type": "execute_result"
    }
   ],
   "source": [
    "# Drop the user column\n",
    "profiles_df = profiles_df.loc[:, profiles_df.columns != 'user']\n",
    "profile_matrix = profiles_df.values\n",
    "profile_matrix"
   ]
  },
  {
   "cell_type": "code",
   "execution_count": 20,
   "id": "baf23705-d94a-4c00-9019-d6be76f131d3",
   "metadata": {},
   "outputs": [
    {
     "data": {
      "text/plain": [
       "(2, 3)"
      ]
     },
     "execution_count": 20,
     "metadata": {},
     "output_type": "execute_result"
    }
   ],
   "source": [
    "profile_matrix.shape"
   ]
  },
  {
   "cell_type": "markdown",
   "id": "bca788d2-46aa-4bcb-907f-8dad78dc9f13",
   "metadata": {},
   "source": [
    "The profile matrix is a 2 x 3 matrix and each row is a user profile vector:\n"
   ]
  },
  {
   "cell_type": "markdown",
   "id": "b428f7d7-de3c-4862-ba65-0c5f097d94ca",
   "metadata": {},
   "source": [
    "If we multiply the course matrix and the user profile matrix, we can get the 2 x 3 course recommendation matrix with each element `(i, j)` representing a recommendation score of course `i` to user `j`. Intuitively, if a user `j` is interested in some topics(genres) and if a course `i` also has the same topics(genres), it means the user profile vector and course genre vector share many common dimensions and a dot product is likely to have a large value.\n"
   ]
  },
  {
   "cell_type": "code",
   "execution_count": 21,
   "id": "cdd3dd7a-3ca8-41e5-9c94-6f8502f8a3dd",
   "metadata": {},
   "outputs": [
    {
     "data": {
      "text/plain": [
       "array([[3, 2],\n",
       "       [0, 2],\n",
       "       [3, 0]])"
      ]
     },
     "execution_count": 21,
     "metadata": {},
     "output_type": "execute_result"
    }
   ],
   "source": [
    "scores = np.matmul(course_matrix, profile_matrix.T)\n",
    "scores"
   ]
  },
  {
   "cell_type": "markdown",
   "id": "8b6d98c2-6ea8-4bde-baa4-bd9c935ef428",
   "metadata": {},
   "source": [
    "Now let's add the course titles and user ids back to make the results more clear:\n"
   ]
  },
  {
   "cell_type": "code",
   "execution_count": 22,
   "id": "b040ebea-05b1-4986-ab40-e8ec06526085",
   "metadata": {},
   "outputs": [],
   "source": [
    "scores_df = pd.DataFrame(scores, columns=['User0', 'User1'])\n",
    "scores_df.index = ['Python 101', 'Database 101', 'Machine Learning with R']"
   ]
  },
  {
   "cell_type": "code",
   "execution_count": 23,
   "id": "1666320d-e3b5-4ab2-b467-f0211d3a0da9",
   "metadata": {},
   "outputs": [
    {
     "data": {
      "text/html": [
       "<div>\n",
       "<style scoped>\n",
       "    .dataframe tbody tr th:only-of-type {\n",
       "        vertical-align: middle;\n",
       "    }\n",
       "\n",
       "    .dataframe tbody tr th {\n",
       "        vertical-align: top;\n",
       "    }\n",
       "\n",
       "    .dataframe thead th {\n",
       "        text-align: right;\n",
       "    }\n",
       "</style>\n",
       "<table border=\"1\" class=\"dataframe\">\n",
       "  <thead>\n",
       "    <tr style=\"text-align: right;\">\n",
       "      <th></th>\n",
       "      <th>User0</th>\n",
       "      <th>User1</th>\n",
       "    </tr>\n",
       "  </thead>\n",
       "  <tbody>\n",
       "    <tr>\n",
       "      <th>Python 101</th>\n",
       "      <td>3</td>\n",
       "      <td>2</td>\n",
       "    </tr>\n",
       "    <tr>\n",
       "      <th>Database 101</th>\n",
       "      <td>0</td>\n",
       "      <td>2</td>\n",
       "    </tr>\n",
       "    <tr>\n",
       "      <th>Machine Learning with R</th>\n",
       "      <td>3</td>\n",
       "      <td>0</td>\n",
       "    </tr>\n",
       "  </tbody>\n",
       "</table>\n",
       "</div>"
      ],
      "text/plain": [
       "                         User0  User1\n",
       "Python 101                   3      2\n",
       "Database 101                 0      2\n",
       "Machine Learning with R      3      0"
      ]
     },
     "execution_count": 23,
     "metadata": {},
     "output_type": "execute_result"
    }
   ],
   "source": [
    "# recommendation score dataframe\n",
    "scores_df"
   ]
  },
  {
   "cell_type": "markdown",
   "id": "b36a2569-d67f-4b62-8dee-a43ec4d71cb5",
   "metadata": {},
   "source": [
    "From the score results, we can see that:\n",
    "- For user0, the recommended courses are `Python 101` and `Machine Learning with R` because user0 is very interested in Python and machine learning\n",
    "- For user1, the recommended courses are `Python 101` and `Database 101` because user1 seems very interested in topics like Python and database\n"
   ]
  },
  {
   "cell_type": "markdown",
   "id": "d7b4fd71-06bb-49fc-8d5d-186d36e5e647",
   "metadata": {},
   "source": [
    "### TASK: Generate course recommendations based on user profile and course genre vectors\n"
   ]
  },
  {
   "cell_type": "markdown",
   "id": "897f71b6-20c5-4e7f-9488-a96c231a8e9f",
   "metadata": {},
   "source": [
    "By now you have learned how to calculate recommendation scores using a user profile vector and a course genre vector.  Now, let's work on some real-world datasets to generate real personalized courses recommendations.\n"
   ]
  },
  {
   "cell_type": "markdown",
   "id": "0394a1ae-e8a4-41b5-b7dd-52147cd0e0bf",
   "metadata": {},
   "source": [
    "First, we will load a user's profile dataframe and a course genre dataframe:\n"
   ]
  },
  {
   "cell_type": "code",
   "execution_count": 24,
   "id": "64f990d7-6c02-4e64-961a-adcd5089e730",
   "metadata": {},
   "outputs": [],
   "source": [
    "course_genre_url = \"https://cf-courses-data.s3.us.cloud-object-storage.appdomain.cloud/IBM-ML321EN-SkillsNetwork/labs/datasets/course_genre.csv\"\n",
    "course_genres_df = pd.read_csv(course_genre_url)"
   ]
  },
  {
   "cell_type": "code",
   "execution_count": 25,
   "id": "7e7a1339-a9c9-48fc-8098-9e6103f06608",
   "metadata": {},
   "outputs": [
    {
     "data": {
      "text/html": [
       "<div>\n",
       "<style scoped>\n",
       "    .dataframe tbody tr th:only-of-type {\n",
       "        vertical-align: middle;\n",
       "    }\n",
       "\n",
       "    .dataframe tbody tr th {\n",
       "        vertical-align: top;\n",
       "    }\n",
       "\n",
       "    .dataframe thead th {\n",
       "        text-align: right;\n",
       "    }\n",
       "</style>\n",
       "<table border=\"1\" class=\"dataframe\">\n",
       "  <thead>\n",
       "    <tr style=\"text-align: right;\">\n",
       "      <th></th>\n",
       "      <th>COURSE_ID</th>\n",
       "      <th>TITLE</th>\n",
       "      <th>Database</th>\n",
       "      <th>Python</th>\n",
       "      <th>CloudComputing</th>\n",
       "      <th>DataAnalysis</th>\n",
       "      <th>Containers</th>\n",
       "      <th>MachineLearning</th>\n",
       "      <th>ComputerVision</th>\n",
       "      <th>DataScience</th>\n",
       "      <th>BigData</th>\n",
       "      <th>Chatbot</th>\n",
       "      <th>R</th>\n",
       "      <th>BackendDev</th>\n",
       "      <th>FrontendDev</th>\n",
       "      <th>Blockchain</th>\n",
       "    </tr>\n",
       "  </thead>\n",
       "  <tbody>\n",
       "    <tr>\n",
       "      <th>0</th>\n",
       "      <td>ML0201EN</td>\n",
       "      <td>robots are coming  build iot apps with watson ...</td>\n",
       "      <td>0</td>\n",
       "      <td>0</td>\n",
       "      <td>0</td>\n",
       "      <td>0</td>\n",
       "      <td>0</td>\n",
       "      <td>0</td>\n",
       "      <td>0</td>\n",
       "      <td>0</td>\n",
       "      <td>0</td>\n",
       "      <td>0</td>\n",
       "      <td>0</td>\n",
       "      <td>1</td>\n",
       "      <td>1</td>\n",
       "      <td>0</td>\n",
       "    </tr>\n",
       "    <tr>\n",
       "      <th>1</th>\n",
       "      <td>ML0122EN</td>\n",
       "      <td>accelerating deep learning with gpu</td>\n",
       "      <td>0</td>\n",
       "      <td>1</td>\n",
       "      <td>0</td>\n",
       "      <td>0</td>\n",
       "      <td>0</td>\n",
       "      <td>1</td>\n",
       "      <td>0</td>\n",
       "      <td>1</td>\n",
       "      <td>0</td>\n",
       "      <td>0</td>\n",
       "      <td>0</td>\n",
       "      <td>0</td>\n",
       "      <td>0</td>\n",
       "      <td>0</td>\n",
       "    </tr>\n",
       "    <tr>\n",
       "      <th>2</th>\n",
       "      <td>GPXX0ZG0EN</td>\n",
       "      <td>consuming restful services using the reactive ...</td>\n",
       "      <td>0</td>\n",
       "      <td>0</td>\n",
       "      <td>0</td>\n",
       "      <td>0</td>\n",
       "      <td>0</td>\n",
       "      <td>0</td>\n",
       "      <td>0</td>\n",
       "      <td>0</td>\n",
       "      <td>0</td>\n",
       "      <td>0</td>\n",
       "      <td>0</td>\n",
       "      <td>1</td>\n",
       "      <td>1</td>\n",
       "      <td>0</td>\n",
       "    </tr>\n",
       "    <tr>\n",
       "      <th>3</th>\n",
       "      <td>RP0105EN</td>\n",
       "      <td>analyzing big data in r using apache spark</td>\n",
       "      <td>1</td>\n",
       "      <td>0</td>\n",
       "      <td>0</td>\n",
       "      <td>1</td>\n",
       "      <td>0</td>\n",
       "      <td>0</td>\n",
       "      <td>0</td>\n",
       "      <td>0</td>\n",
       "      <td>1</td>\n",
       "      <td>0</td>\n",
       "      <td>1</td>\n",
       "      <td>0</td>\n",
       "      <td>0</td>\n",
       "      <td>0</td>\n",
       "    </tr>\n",
       "    <tr>\n",
       "      <th>4</th>\n",
       "      <td>GPXX0Z2PEN</td>\n",
       "      <td>containerizing  packaging  and running a sprin...</td>\n",
       "      <td>0</td>\n",
       "      <td>0</td>\n",
       "      <td>0</td>\n",
       "      <td>0</td>\n",
       "      <td>1</td>\n",
       "      <td>0</td>\n",
       "      <td>0</td>\n",
       "      <td>0</td>\n",
       "      <td>0</td>\n",
       "      <td>0</td>\n",
       "      <td>0</td>\n",
       "      <td>1</td>\n",
       "      <td>0</td>\n",
       "      <td>0</td>\n",
       "    </tr>\n",
       "  </tbody>\n",
       "</table>\n",
       "</div>"
      ],
      "text/plain": [
       "    COURSE_ID                                              TITLE  Database  \\\n",
       "0    ML0201EN  robots are coming  build iot apps with watson ...         0   \n",
       "1    ML0122EN                accelerating deep learning with gpu         0   \n",
       "2  GPXX0ZG0EN  consuming restful services using the reactive ...         0   \n",
       "3    RP0105EN         analyzing big data in r using apache spark         1   \n",
       "4  GPXX0Z2PEN  containerizing  packaging  and running a sprin...         0   \n",
       "\n",
       "   Python  CloudComputing  DataAnalysis  Containers  MachineLearning  \\\n",
       "0       0               0             0           0                0   \n",
       "1       1               0             0           0                1   \n",
       "2       0               0             0           0                0   \n",
       "3       0               0             1           0                0   \n",
       "4       0               0             0           1                0   \n",
       "\n",
       "   ComputerVision  DataScience  BigData  Chatbot  R  BackendDev  FrontendDev  \\\n",
       "0               0            0        0        0  0           1            1   \n",
       "1               0            1        0        0  0           0            0   \n",
       "2               0            0        0        0  0           1            1   \n",
       "3               0            0        1        0  1           0            0   \n",
       "4               0            0        0        0  0           1            0   \n",
       "\n",
       "   Blockchain  \n",
       "0           0  \n",
       "1           0  \n",
       "2           0  \n",
       "3           0  \n",
       "4           0  "
      ]
     },
     "execution_count": 25,
     "metadata": {},
     "output_type": "execute_result"
    }
   ],
   "source": [
    "course_genres_df.head()"
   ]
  },
  {
   "cell_type": "code",
   "execution_count": 26,
   "id": "361a0103-ed7b-4e56-b4e6-0245a6f25023",
   "metadata": {},
   "outputs": [],
   "source": [
    "profile_genre_url = \"https://cf-courses-data.s3.us.cloud-object-storage.appdomain.cloud/IBM-ML321EN-SkillsNetwork/labs/datasets/user_profile.csv\"\n",
    "profile_df = pd.read_csv(profile_genre_url)"
   ]
  },
  {
   "cell_type": "code",
   "execution_count": 27,
   "id": "df6e96f4-b740-42c6-866f-ac02bb808e97",
   "metadata": {},
   "outputs": [
    {
     "data": {
      "text/html": [
       "<div>\n",
       "<style scoped>\n",
       "    .dataframe tbody tr th:only-of-type {\n",
       "        vertical-align: middle;\n",
       "    }\n",
       "\n",
       "    .dataframe tbody tr th {\n",
       "        vertical-align: top;\n",
       "    }\n",
       "\n",
       "    .dataframe thead th {\n",
       "        text-align: right;\n",
       "    }\n",
       "</style>\n",
       "<table border=\"1\" class=\"dataframe\">\n",
       "  <thead>\n",
       "    <tr style=\"text-align: right;\">\n",
       "      <th></th>\n",
       "      <th>user</th>\n",
       "      <th>Database</th>\n",
       "      <th>Python</th>\n",
       "      <th>CloudComputing</th>\n",
       "      <th>DataAnalysis</th>\n",
       "      <th>Containers</th>\n",
       "      <th>MachineLearning</th>\n",
       "      <th>ComputerVision</th>\n",
       "      <th>DataScience</th>\n",
       "      <th>BigData</th>\n",
       "      <th>Chatbot</th>\n",
       "      <th>R</th>\n",
       "      <th>BackendDev</th>\n",
       "      <th>FrontendDev</th>\n",
       "      <th>Blockchain</th>\n",
       "    </tr>\n",
       "  </thead>\n",
       "  <tbody>\n",
       "    <tr>\n",
       "      <th>0</th>\n",
       "      <td>2</td>\n",
       "      <td>52.0</td>\n",
       "      <td>14.0</td>\n",
       "      <td>6.0</td>\n",
       "      <td>43.0</td>\n",
       "      <td>3.0</td>\n",
       "      <td>33.0</td>\n",
       "      <td>0.0</td>\n",
       "      <td>29.0</td>\n",
       "      <td>41.0</td>\n",
       "      <td>2.0</td>\n",
       "      <td>18.0</td>\n",
       "      <td>34.0</td>\n",
       "      <td>9.0</td>\n",
       "      <td>6.0</td>\n",
       "    </tr>\n",
       "    <tr>\n",
       "      <th>1</th>\n",
       "      <td>4</td>\n",
       "      <td>40.0</td>\n",
       "      <td>2.0</td>\n",
       "      <td>4.0</td>\n",
       "      <td>28.0</td>\n",
       "      <td>0.0</td>\n",
       "      <td>14.0</td>\n",
       "      <td>0.0</td>\n",
       "      <td>20.0</td>\n",
       "      <td>24.0</td>\n",
       "      <td>0.0</td>\n",
       "      <td>6.0</td>\n",
       "      <td>6.0</td>\n",
       "      <td>0.0</td>\n",
       "      <td>2.0</td>\n",
       "    </tr>\n",
       "    <tr>\n",
       "      <th>2</th>\n",
       "      <td>5</td>\n",
       "      <td>24.0</td>\n",
       "      <td>8.0</td>\n",
       "      <td>18.0</td>\n",
       "      <td>24.0</td>\n",
       "      <td>0.0</td>\n",
       "      <td>30.0</td>\n",
       "      <td>0.0</td>\n",
       "      <td>22.0</td>\n",
       "      <td>14.0</td>\n",
       "      <td>2.0</td>\n",
       "      <td>14.0</td>\n",
       "      <td>26.0</td>\n",
       "      <td>4.0</td>\n",
       "      <td>6.0</td>\n",
       "    </tr>\n",
       "    <tr>\n",
       "      <th>3</th>\n",
       "      <td>7</td>\n",
       "      <td>2.0</td>\n",
       "      <td>0.0</td>\n",
       "      <td>0.0</td>\n",
       "      <td>2.0</td>\n",
       "      <td>0.0</td>\n",
       "      <td>0.0</td>\n",
       "      <td>0.0</td>\n",
       "      <td>0.0</td>\n",
       "      <td>2.0</td>\n",
       "      <td>0.0</td>\n",
       "      <td>0.0</td>\n",
       "      <td>0.0</td>\n",
       "      <td>0.0</td>\n",
       "      <td>0.0</td>\n",
       "    </tr>\n",
       "    <tr>\n",
       "      <th>4</th>\n",
       "      <td>8</td>\n",
       "      <td>6.0</td>\n",
       "      <td>0.0</td>\n",
       "      <td>0.0</td>\n",
       "      <td>4.0</td>\n",
       "      <td>0.0</td>\n",
       "      <td>0.0</td>\n",
       "      <td>0.0</td>\n",
       "      <td>0.0</td>\n",
       "      <td>6.0</td>\n",
       "      <td>0.0</td>\n",
       "      <td>2.0</td>\n",
       "      <td>0.0</td>\n",
       "      <td>0.0</td>\n",
       "      <td>0.0</td>\n",
       "    </tr>\n",
       "  </tbody>\n",
       "</table>\n",
       "</div>"
      ],
      "text/plain": [
       "   user  Database  Python  CloudComputing  DataAnalysis  Containers  \\\n",
       "0     2      52.0    14.0             6.0          43.0         3.0   \n",
       "1     4      40.0     2.0             4.0          28.0         0.0   \n",
       "2     5      24.0     8.0            18.0          24.0         0.0   \n",
       "3     7       2.0     0.0             0.0           2.0         0.0   \n",
       "4     8       6.0     0.0             0.0           4.0         0.0   \n",
       "\n",
       "   MachineLearning  ComputerVision  DataScience  BigData  Chatbot     R  \\\n",
       "0             33.0             0.0         29.0     41.0      2.0  18.0   \n",
       "1             14.0             0.0         20.0     24.0      0.0   6.0   \n",
       "2             30.0             0.0         22.0     14.0      2.0  14.0   \n",
       "3              0.0             0.0          0.0      2.0      0.0   0.0   \n",
       "4              0.0             0.0          0.0      6.0      0.0   2.0   \n",
       "\n",
       "   BackendDev  FrontendDev  Blockchain  \n",
       "0        34.0          9.0         6.0  \n",
       "1         6.0          0.0         2.0  \n",
       "2        26.0          4.0         6.0  \n",
       "3         0.0          0.0         0.0  \n",
       "4         0.0          0.0         0.0  "
      ]
     },
     "execution_count": 27,
     "metadata": {},
     "output_type": "execute_result"
    }
   ],
   "source": [
    "profile_df.head()"
   ]
  },
  {
   "cell_type": "markdown",
   "id": "d536c30e-1249-4af6-9e0b-8e5305e6ab99",
   "metadata": {},
   "source": [
    "The profile dataframe contains the course interests for each user, for example, user 8 is very interested in R, data analysis, database, and big data:\n"
   ]
  },
  {
   "cell_type": "code",
   "execution_count": 28,
   "id": "43b76d00-5222-4f92-8c48-4477fb1f94d0",
   "metadata": {},
   "outputs": [
    {
     "data": {
      "text/html": [
       "<div>\n",
       "<style scoped>\n",
       "    .dataframe tbody tr th:only-of-type {\n",
       "        vertical-align: middle;\n",
       "    }\n",
       "\n",
       "    .dataframe tbody tr th {\n",
       "        vertical-align: top;\n",
       "    }\n",
       "\n",
       "    .dataframe thead th {\n",
       "        text-align: right;\n",
       "    }\n",
       "</style>\n",
       "<table border=\"1\" class=\"dataframe\">\n",
       "  <thead>\n",
       "    <tr style=\"text-align: right;\">\n",
       "      <th></th>\n",
       "      <th>user</th>\n",
       "      <th>Database</th>\n",
       "      <th>Python</th>\n",
       "      <th>CloudComputing</th>\n",
       "      <th>DataAnalysis</th>\n",
       "      <th>Containers</th>\n",
       "      <th>MachineLearning</th>\n",
       "      <th>ComputerVision</th>\n",
       "      <th>DataScience</th>\n",
       "      <th>BigData</th>\n",
       "      <th>Chatbot</th>\n",
       "      <th>R</th>\n",
       "      <th>BackendDev</th>\n",
       "      <th>FrontendDev</th>\n",
       "      <th>Blockchain</th>\n",
       "    </tr>\n",
       "  </thead>\n",
       "  <tbody>\n",
       "    <tr>\n",
       "      <th>4</th>\n",
       "      <td>8</td>\n",
       "      <td>6.0</td>\n",
       "      <td>0.0</td>\n",
       "      <td>0.0</td>\n",
       "      <td>4.0</td>\n",
       "      <td>0.0</td>\n",
       "      <td>0.0</td>\n",
       "      <td>0.0</td>\n",
       "      <td>0.0</td>\n",
       "      <td>6.0</td>\n",
       "      <td>0.0</td>\n",
       "      <td>2.0</td>\n",
       "      <td>0.0</td>\n",
       "      <td>0.0</td>\n",
       "      <td>0.0</td>\n",
       "    </tr>\n",
       "  </tbody>\n",
       "</table>\n",
       "</div>"
      ],
      "text/plain": [
       "   user  Database  Python  CloudComputing  DataAnalysis  Containers  \\\n",
       "4     8       6.0     0.0             0.0           4.0         0.0   \n",
       "\n",
       "   MachineLearning  ComputerVision  DataScience  BigData  Chatbot    R  \\\n",
       "4              0.0             0.0          0.0      6.0      0.0  2.0   \n",
       "\n",
       "   BackendDev  FrontendDev  Blockchain  \n",
       "4         0.0          0.0         0.0  "
      ]
     },
     "execution_count": 28,
     "metadata": {},
     "output_type": "execute_result"
    }
   ],
   "source": [
    "profile_df[profile_df['user'] == 8]"
   ]
  },
  {
   "cell_type": "markdown",
   "id": "510d30b9-abb1-4391-9d8a-3a0051d16e34",
   "metadata": {},
   "source": [
    "Next, let's load a test dataset, containing test users to whom we want to make course recommendations:\n"
   ]
  },
  {
   "cell_type": "code",
   "execution_count": 29,
   "id": "282bf8f4-5155-4aa3-ad0b-174983401a36",
   "metadata": {},
   "outputs": [],
   "source": [
    "test_users_url = \"https://cf-courses-data.s3.us.cloud-object-storage.appdomain.cloud/IBMSkillsNetwork-ML0321EN-Coursera/labs/v2/module_3/ratings.csv\"\n",
    "test_users_df = pd.read_csv(test_users_url)"
   ]
  },
  {
   "cell_type": "code",
   "execution_count": 30,
   "id": "56a78e1f-6829-4414-941d-bb2b7eb2a7ca",
   "metadata": {},
   "outputs": [
    {
     "data": {
      "text/html": [
       "<div>\n",
       "<style scoped>\n",
       "    .dataframe tbody tr th:only-of-type {\n",
       "        vertical-align: middle;\n",
       "    }\n",
       "\n",
       "    .dataframe tbody tr th {\n",
       "        vertical-align: top;\n",
       "    }\n",
       "\n",
       "    .dataframe thead th {\n",
       "        text-align: right;\n",
       "    }\n",
       "</style>\n",
       "<table border=\"1\" class=\"dataframe\">\n",
       "  <thead>\n",
       "    <tr style=\"text-align: right;\">\n",
       "      <th></th>\n",
       "      <th>user</th>\n",
       "      <th>item</th>\n",
       "      <th>rating</th>\n",
       "    </tr>\n",
       "  </thead>\n",
       "  <tbody>\n",
       "    <tr>\n",
       "      <th>0</th>\n",
       "      <td>1889878</td>\n",
       "      <td>CC0101EN</td>\n",
       "      <td>5</td>\n",
       "    </tr>\n",
       "    <tr>\n",
       "      <th>1</th>\n",
       "      <td>1342067</td>\n",
       "      <td>CL0101EN</td>\n",
       "      <td>3</td>\n",
       "    </tr>\n",
       "    <tr>\n",
       "      <th>2</th>\n",
       "      <td>1990814</td>\n",
       "      <td>ML0120ENv3</td>\n",
       "      <td>5</td>\n",
       "    </tr>\n",
       "    <tr>\n",
       "      <th>3</th>\n",
       "      <td>380098</td>\n",
       "      <td>BD0211EN</td>\n",
       "      <td>5</td>\n",
       "    </tr>\n",
       "    <tr>\n",
       "      <th>4</th>\n",
       "      <td>779563</td>\n",
       "      <td>DS0101EN</td>\n",
       "      <td>3</td>\n",
       "    </tr>\n",
       "  </tbody>\n",
       "</table>\n",
       "</div>"
      ],
      "text/plain": [
       "      user        item  rating\n",
       "0  1889878    CC0101EN       5\n",
       "1  1342067    CL0101EN       3\n",
       "2  1990814  ML0120ENv3       5\n",
       "3   380098    BD0211EN       5\n",
       "4   779563    DS0101EN       3"
      ]
     },
     "execution_count": 30,
     "metadata": {},
     "output_type": "execute_result"
    }
   ],
   "source": [
    "test_users_df.head()"
   ]
  },
  {
   "cell_type": "markdown",
   "id": "068f3fb2-2944-4b99-b9f4-ce6038742215",
   "metadata": {},
   "source": [
    "Let's look at how many test users we have in the dataset.\n"
   ]
  },
  {
   "cell_type": "code",
   "execution_count": 31,
   "id": "b2f73b96-09f1-44c2-8576-9a8548b3d0ad",
   "metadata": {},
   "outputs": [
    {
     "name": "stdout",
     "output_type": "stream",
     "text": [
      "Total numbers of test users 33901\n"
     ]
    }
   ],
   "source": [
    "# Group the test users DataFrame by the 'user' column and find the maximum value for each group,\n",
    "# then reset the index and drop the old index to obtain a DataFrame with unique user IDs\n",
    "test_users = test_users_df.groupby(['user']).max().reset_index(drop=False)\n",
    "\n",
    "# Extract the 'user' column from the test_users DataFrame and convert it to a list of user IDs\n",
    "test_user_ids = test_users['user'].to_list()\n",
    "\n",
    "# Print the total number of test users by obtaining the length of the test_user_ids list\n",
    "print(f\"Total numbers of test users {len(test_user_ids)}\")\n"
   ]
  },
  {
   "cell_type": "markdown",
   "id": "6079c2fa-e3b9-41dd-a0cc-666aeb7918fa",
   "metadata": {},
   "source": [
    "Then for each test user in the test dataset, you need to first find out which courses are unknown/unselected to them. For example, suppose we have a user `1078030` with profile:\n"
   ]
  },
  {
   "cell_type": "code",
   "execution_count": 32,
   "id": "5a4e4f5f-adf5-43a6-8ff3-9803577bc9a3",
   "metadata": {},
   "outputs": [
    {
     "data": {
      "text/html": [
       "<div>\n",
       "<style scoped>\n",
       "    .dataframe tbody tr th:only-of-type {\n",
       "        vertical-align: middle;\n",
       "    }\n",
       "\n",
       "    .dataframe tbody tr th {\n",
       "        vertical-align: top;\n",
       "    }\n",
       "\n",
       "    .dataframe thead th {\n",
       "        text-align: right;\n",
       "    }\n",
       "</style>\n",
       "<table border=\"1\" class=\"dataframe\">\n",
       "  <thead>\n",
       "    <tr style=\"text-align: right;\">\n",
       "      <th></th>\n",
       "      <th>user</th>\n",
       "      <th>Database</th>\n",
       "      <th>Python</th>\n",
       "      <th>CloudComputing</th>\n",
       "      <th>DataAnalysis</th>\n",
       "      <th>Containers</th>\n",
       "      <th>MachineLearning</th>\n",
       "      <th>ComputerVision</th>\n",
       "      <th>DataScience</th>\n",
       "      <th>BigData</th>\n",
       "      <th>Chatbot</th>\n",
       "      <th>R</th>\n",
       "      <th>BackendDev</th>\n",
       "      <th>FrontendDev</th>\n",
       "      <th>Blockchain</th>\n",
       "    </tr>\n",
       "  </thead>\n",
       "  <tbody>\n",
       "    <tr>\n",
       "      <th>18204</th>\n",
       "      <td>1078030</td>\n",
       "      <td>0.0</td>\n",
       "      <td>12.0</td>\n",
       "      <td>0.0</td>\n",
       "      <td>9.0</td>\n",
       "      <td>0.0</td>\n",
       "      <td>12.0</td>\n",
       "      <td>0.0</td>\n",
       "      <td>6.0</td>\n",
       "      <td>0.0</td>\n",
       "      <td>0.0</td>\n",
       "      <td>0.0</td>\n",
       "      <td>0.0</td>\n",
       "      <td>0.0</td>\n",
       "      <td>0.0</td>\n",
       "    </tr>\n",
       "  </tbody>\n",
       "</table>\n",
       "</div>"
      ],
      "text/plain": [
       "          user  Database  Python  CloudComputing  DataAnalysis  Containers  \\\n",
       "18204  1078030       0.0    12.0             0.0           9.0         0.0   \n",
       "\n",
       "       MachineLearning  ComputerVision  DataScience  BigData  Chatbot    R  \\\n",
       "18204             12.0             0.0          6.0      0.0      0.0  0.0   \n",
       "\n",
       "       BackendDev  FrontendDev  Blockchain  \n",
       "18204         0.0          0.0         0.0  "
      ]
     },
     "execution_count": 32,
     "metadata": {},
     "output_type": "execute_result"
    }
   ],
   "source": [
    "test_user_profile = profile_df[profile_df['user'] == 1078030]\n",
    "test_user_profile"
   ]
  },
  {
   "cell_type": "code",
   "execution_count": 33,
   "id": "53e61d0c-3fdf-45a4-9fe0-b196c3ca800b",
   "metadata": {},
   "outputs": [
    {
     "data": {
      "text/plain": [
       "array([ 0., 12.,  0.,  9.,  0., 12.,  0.,  6.,  0.,  0.,  0.,  0.,  0.,\n",
       "        0.])"
      ]
     },
     "execution_count": 33,
     "metadata": {},
     "output_type": "execute_result"
    }
   ],
   "source": [
    "# Now let's get the test user vector by excluding the `user` column\n",
    "test_user_vector = test_user_profile.iloc[0, 1:].values\n",
    "test_user_vector"
   ]
  },
  {
   "cell_type": "markdown",
   "id": "dd8d89c9-01ad-4dfb-90fa-90c1ec072576",
   "metadata": {},
   "source": [
    "We can first find their enrolled courses in `test_users_df`:\n"
   ]
  },
  {
   "cell_type": "code",
   "execution_count": 34,
   "id": "f370ea26-7c93-4612-a6f8-def7c08e88be",
   "metadata": {},
   "outputs": [],
   "source": [
    "enrolled_courses = test_users_df[test_users_df['user'] == 1078030]['item'].to_list()\n",
    "enrolled_courses = set(enrolled_courses)"
   ]
  },
  {
   "cell_type": "code",
   "execution_count": 35,
   "id": "0283743e-3e3b-4d45-b381-66f05f97f93e",
   "metadata": {},
   "outputs": [
    {
     "data": {
      "text/plain": [
       "{'DA0101EN',\n",
       " 'DV0101EN',\n",
       " 'ML0101ENv3',\n",
       " 'ML0115EN',\n",
       " 'ML0120ENv2',\n",
       " 'ML0122ENv1',\n",
       " 'PY0101EN',\n",
       " 'ST0101EN'}"
      ]
     },
     "execution_count": 35,
     "metadata": {},
     "output_type": "execute_result"
    }
   ],
   "source": [
    "enrolled_courses"
   ]
  },
  {
   "cell_type": "markdown",
   "id": "81c5adcd-515b-486b-93c5-61d6ceb0003c",
   "metadata": {},
   "source": [
    "We then print the entire course list:\n"
   ]
  },
  {
   "cell_type": "code",
   "execution_count": 36,
   "id": "4f2bc239-29ac-4cc6-ad9e-eea6827f8a92",
   "metadata": {},
   "outputs": [
    {
     "data": {
      "text/plain": [
       "{'AI0111EN',\n",
       " 'BC0101EN',\n",
       " 'BC0201EN',\n",
       " 'BC0202EN',\n",
       " 'BD0101EN',\n",
       " 'BD0111EN',\n",
       " 'BD0115EN',\n",
       " 'BD0121EN',\n",
       " 'BD0123EN',\n",
       " 'BD0131EN',\n",
       " 'BD0133EN',\n",
       " 'BD0135EN',\n",
       " 'BD0137EN',\n",
       " 'BD0141EN',\n",
       " 'BD0143EN',\n",
       " 'BD0145EN',\n",
       " 'BD0151EN',\n",
       " 'BD0153EN',\n",
       " 'BD0211EN',\n",
       " 'BD0212EN',\n",
       " 'BD0221EN',\n",
       " 'BD0223EN',\n",
       " 'BENTEST4',\n",
       " 'CB0101EN',\n",
       " 'CB0103EN',\n",
       " 'CB0105ENv1',\n",
       " 'CB0201EN',\n",
       " 'CC0101EN',\n",
       " 'CC0103EN',\n",
       " 'CC0120EN',\n",
       " 'CC0121EN',\n",
       " 'CC0150EN',\n",
       " 'CC0201EN',\n",
       " 'CC0210EN',\n",
       " 'CC0250EN',\n",
       " 'CC0271EN',\n",
       " 'CL0101EN',\n",
       " 'CNSC02EN',\n",
       " 'CO0101EN',\n",
       " 'CO0193EN',\n",
       " 'CO0201EN',\n",
       " 'CO0301EN',\n",
       " 'CO0302EN',\n",
       " 'CO0401EN',\n",
       " 'COM001EN',\n",
       " 'CP0101EN',\n",
       " 'DA0101EN',\n",
       " 'DA0151EN',\n",
       " 'DA0201EN',\n",
       " 'DAI101EN',\n",
       " 'DB0101EN',\n",
       " 'DB0111EN',\n",
       " 'DB0113EN',\n",
       " 'DB0115EN',\n",
       " 'DB0151EN',\n",
       " 'DE0205EN',\n",
       " 'DJ0101EN',\n",
       " 'DP0101EN',\n",
       " 'DS0101EN',\n",
       " 'DS0103EN',\n",
       " 'DS0105EN',\n",
       " 'DS0107',\n",
       " 'DS0110EN',\n",
       " 'DS0132EN',\n",
       " 'DS0201EN',\n",
       " 'DS0301EN',\n",
       " 'DS0321EN',\n",
       " 'DV0101EN',\n",
       " 'DV0151EN',\n",
       " 'DW0101EN',\n",
       " 'DX0106EN',\n",
       " 'DX0107EN',\n",
       " 'DX0108EN',\n",
       " 'EE0101EN',\n",
       " 'GPXX01AVEN',\n",
       " 'GPXX01DCEN',\n",
       " 'GPXX01RYEN',\n",
       " 'GPXX03HFEN',\n",
       " 'GPXX0435EN',\n",
       " 'GPXX048OEN',\n",
       " 'GPXX04HEEN',\n",
       " 'GPXX04MXEN',\n",
       " 'GPXX04P5EN',\n",
       " 'GPXX04TNEN',\n",
       " 'GPXX04V3EN',\n",
       " 'GPXX04XJEN',\n",
       " 'GPXX05LMEN',\n",
       " 'GPXX05P1EN',\n",
       " 'GPXX05RDEN',\n",
       " 'GPXX06KEEN',\n",
       " 'GPXX06RFEN',\n",
       " 'GPXX06ZLEN',\n",
       " 'GPXX0725EN',\n",
       " 'GPXX0742EN',\n",
       " 'GPXX07REN',\n",
       " 'GPXX07UGEN',\n",
       " 'GPXX07YGEN',\n",
       " 'GPXX08WYEN',\n",
       " 'GPXX097UEN',\n",
       " 'GPXX0A1YEN',\n",
       " 'GPXX0ADEN',\n",
       " 'GPXX0BSAEN',\n",
       " 'GPXX0BUBEN',\n",
       " 'GPXX0D14EN',\n",
       " 'GPXX0E3QEN',\n",
       " 'GPXX0FFCEN',\n",
       " 'GPXX0FTCEN',\n",
       " 'GPXX0G31EN',\n",
       " 'GPXX0G3KEN',\n",
       " 'GPXX0G81EN',\n",
       " 'GPXX0HAAEN',\n",
       " 'GPXX0HC7EN',\n",
       " 'GPXX0HZ2EN',\n",
       " 'GPXX0I4FEN',\n",
       " 'GPXX0IBEN',\n",
       " 'GPXX0IHMEN',\n",
       " 'GPXX0JGFEN',\n",
       " 'GPXX0JLHEN',\n",
       " 'GPXX0JZ4EN',\n",
       " 'GPXX0KHHEN',\n",
       " 'GPXX0KV4EN',\n",
       " 'GPXX0KY1EN',\n",
       " 'GPXX0LLEEN',\n",
       " 'GPXX0M6UEN',\n",
       " 'GPXX0M7ZEN',\n",
       " 'GPXX0MIIEN',\n",
       " 'GPXX0MP0EN',\n",
       " 'GPXX0NHZEN',\n",
       " 'GPXX0PG8EN',\n",
       " 'GPXX0PICEN',\n",
       " 'GPXX0Q8AEN',\n",
       " 'GPXX0QJFEN',\n",
       " 'GPXX0QQ3EN',\n",
       " 'GPXX0QR3EN',\n",
       " 'GPXX0QS6EN',\n",
       " 'GPXX0QTEEN',\n",
       " 'GPXX0QU9EN',\n",
       " 'GPXX0RL8EN',\n",
       " 'GPXX0RQLEN',\n",
       " 'GPXX0SDXEN',\n",
       " 'GPXX0T0FEN',\n",
       " 'GPXX0T3CEN',\n",
       " 'GPXX0TY1EN',\n",
       " 'GPXX0UMSEN',\n",
       " 'GPXX0UN5EN',\n",
       " 'GPXX0W7KEN',\n",
       " 'GPXX0WRDEN',\n",
       " 'GPXX0WTIEN',\n",
       " 'GPXX0XENEN',\n",
       " 'GPXX0XFQEN',\n",
       " 'GPXX0XV3EN',\n",
       " 'GPXX0YBFEN',\n",
       " 'GPXX0YMEEN',\n",
       " 'GPXX0YXHEN',\n",
       " 'GPXX0Z2PEN',\n",
       " 'GPXX0ZG0EN',\n",
       " 'GPXX0ZMZEN',\n",
       " 'GPXX0ZYVEN',\n",
       " 'HCC104EN',\n",
       " 'HCC105EN',\n",
       " 'IT0101EN',\n",
       " 'LB0101ENv1',\n",
       " 'LB0103ENv1',\n",
       " 'LB0105ENv1',\n",
       " 'LB0107ENv1',\n",
       " 'LB0109ENv1',\n",
       " 'LB0111EN',\n",
       " 'ML0101EN',\n",
       " 'ML0101ENv3',\n",
       " 'ML0103EN',\n",
       " 'ML0109EN',\n",
       " 'ML0111EN',\n",
       " 'ML0115EN',\n",
       " 'ML0120EN',\n",
       " 'ML0120ENv2',\n",
       " 'ML0120ENv3',\n",
       " 'ML0122EN',\n",
       " 'ML0122ENv1',\n",
       " 'ML0122ENv3',\n",
       " 'ML0151EN',\n",
       " 'ML0201EN',\n",
       " 'OS0101EN',\n",
       " 'PA0101EN',\n",
       " 'PA0103EN',\n",
       " 'PA0107EN',\n",
       " 'PA0109EN',\n",
       " 'PHPM002EN',\n",
       " 'PY0101EN',\n",
       " 'QC0101EN',\n",
       " 'RAVSCTEST1',\n",
       " 'RP0101EN',\n",
       " 'RP0103',\n",
       " 'RP0103EN',\n",
       " 'RP0105EN',\n",
       " 'RP0151EN',\n",
       " 'SC0101EN',\n",
       " 'SC0103EN',\n",
       " 'SC0105EN',\n",
       " 'SECM03EN',\n",
       " 'SN0111EN',\n",
       " 'ST0101EN',\n",
       " 'ST0201EN',\n",
       " 'ST0301EN',\n",
       " 'SW0101EN',\n",
       " 'SW0201EN',\n",
       " 'TA0105',\n",
       " 'TA0105EN',\n",
       " 'TA0106EN',\n",
       " 'TMP0101EN',\n",
       " 'TMP0105EN',\n",
       " 'TMP0106',\n",
       " 'TMP107',\n",
       " 'WA0101EN',\n",
       " 'WA0103EN',\n",
       " 'excourse01',\n",
       " 'excourse02',\n",
       " 'excourse03',\n",
       " 'excourse04',\n",
       " 'excourse05',\n",
       " 'excourse06',\n",
       " 'excourse07',\n",
       " 'excourse08',\n",
       " 'excourse09',\n",
       " 'excourse10',\n",
       " 'excourse11',\n",
       " 'excourse12',\n",
       " 'excourse13',\n",
       " 'excourse14',\n",
       " 'excourse15',\n",
       " 'excourse16',\n",
       " 'excourse17',\n",
       " 'excourse18',\n",
       " 'excourse19',\n",
       " 'excourse20',\n",
       " 'excourse21',\n",
       " 'excourse22',\n",
       " 'excourse23',\n",
       " 'excourse24',\n",
       " 'excourse25',\n",
       " 'excourse26',\n",
       " 'excourse27',\n",
       " 'excourse28',\n",
       " 'excourse29',\n",
       " 'excourse30',\n",
       " 'excourse31',\n",
       " 'excourse32',\n",
       " 'excourse33',\n",
       " 'excourse34',\n",
       " 'excourse35',\n",
       " 'excourse36',\n",
       " 'excourse37',\n",
       " 'excourse38',\n",
       " 'excourse39',\n",
       " 'excourse40',\n",
       " 'excourse41',\n",
       " 'excourse42',\n",
       " 'excourse43',\n",
       " 'excourse44',\n",
       " 'excourse45',\n",
       " 'excourse46',\n",
       " 'excourse47',\n",
       " 'excourse48',\n",
       " 'excourse49',\n",
       " 'excourse50',\n",
       " 'excourse51',\n",
       " 'excourse52',\n",
       " 'excourse53',\n",
       " 'excourse54',\n",
       " 'excourse55',\n",
       " 'excourse56',\n",
       " 'excourse57',\n",
       " 'excourse58',\n",
       " 'excourse59',\n",
       " 'excourse60',\n",
       " 'excourse61',\n",
       " 'excourse62',\n",
       " 'excourse63',\n",
       " 'excourse64',\n",
       " 'excourse65',\n",
       " 'excourse66',\n",
       " 'excourse67',\n",
       " 'excourse68',\n",
       " 'excourse69',\n",
       " 'excourse70',\n",
       " 'excourse71',\n",
       " 'excourse72',\n",
       " 'excourse73',\n",
       " 'excourse74',\n",
       " 'excourse75',\n",
       " 'excourse76',\n",
       " 'excourse77',\n",
       " 'excourse78',\n",
       " 'excourse79',\n",
       " 'excourse80',\n",
       " 'excourse81',\n",
       " 'excourse82',\n",
       " 'excourse83',\n",
       " 'excourse84',\n",
       " 'excourse85',\n",
       " 'excourse86',\n",
       " 'excourse87',\n",
       " 'excourse88',\n",
       " 'excourse89',\n",
       " 'excourse90',\n",
       " 'excourse91',\n",
       " 'excourse92',\n",
       " 'excourse93'}"
      ]
     },
     "execution_count": 36,
     "metadata": {},
     "output_type": "execute_result"
    }
   ],
   "source": [
    "all_courses = set(course_genres_df['COURSE_ID'].values)\n",
    "all_courses"
   ]
  },
  {
   "cell_type": "markdown",
   "id": "66e61de4-11be-4363-8e27-af25e80d5dd5",
   "metadata": {},
   "source": [
    "Then we can use all courses to subtract the enrolled courses to get a set of all unknown courses for user `1078030`, and we want to find potential interested courses hidden in the unknown course list.\n"
   ]
  },
  {
   "cell_type": "code",
   "execution_count": 37,
   "id": "a5b5ed8e-64b5-4f1a-96af-d655a29313a2",
   "metadata": {},
   "outputs": [
    {
     "data": {
      "text/plain": [
       "{'AI0111EN',\n",
       " 'BC0101EN',\n",
       " 'BC0201EN',\n",
       " 'BC0202EN',\n",
       " 'BD0101EN',\n",
       " 'BD0111EN',\n",
       " 'BD0115EN',\n",
       " 'BD0121EN',\n",
       " 'BD0123EN',\n",
       " 'BD0131EN',\n",
       " 'BD0133EN',\n",
       " 'BD0135EN',\n",
       " 'BD0137EN',\n",
       " 'BD0141EN',\n",
       " 'BD0143EN',\n",
       " 'BD0145EN',\n",
       " 'BD0151EN',\n",
       " 'BD0153EN',\n",
       " 'BD0211EN',\n",
       " 'BD0212EN',\n",
       " 'BD0221EN',\n",
       " 'BD0223EN',\n",
       " 'BENTEST4',\n",
       " 'CB0101EN',\n",
       " 'CB0103EN',\n",
       " 'CB0105ENv1',\n",
       " 'CB0201EN',\n",
       " 'CC0101EN',\n",
       " 'CC0103EN',\n",
       " 'CC0120EN',\n",
       " 'CC0121EN',\n",
       " 'CC0150EN',\n",
       " 'CC0201EN',\n",
       " 'CC0210EN',\n",
       " 'CC0250EN',\n",
       " 'CC0271EN',\n",
       " 'CL0101EN',\n",
       " 'CNSC02EN',\n",
       " 'CO0101EN',\n",
       " 'CO0193EN',\n",
       " 'CO0201EN',\n",
       " 'CO0301EN',\n",
       " 'CO0302EN',\n",
       " 'CO0401EN',\n",
       " 'COM001EN',\n",
       " 'CP0101EN',\n",
       " 'DA0151EN',\n",
       " 'DA0201EN',\n",
       " 'DAI101EN',\n",
       " 'DB0101EN',\n",
       " 'DB0111EN',\n",
       " 'DB0113EN',\n",
       " 'DB0115EN',\n",
       " 'DB0151EN',\n",
       " 'DE0205EN',\n",
       " 'DJ0101EN',\n",
       " 'DP0101EN',\n",
       " 'DS0101EN',\n",
       " 'DS0103EN',\n",
       " 'DS0105EN',\n",
       " 'DS0107',\n",
       " 'DS0110EN',\n",
       " 'DS0132EN',\n",
       " 'DS0201EN',\n",
       " 'DS0301EN',\n",
       " 'DS0321EN',\n",
       " 'DV0151EN',\n",
       " 'DW0101EN',\n",
       " 'DX0106EN',\n",
       " 'DX0107EN',\n",
       " 'DX0108EN',\n",
       " 'EE0101EN',\n",
       " 'GPXX01AVEN',\n",
       " 'GPXX01DCEN',\n",
       " 'GPXX01RYEN',\n",
       " 'GPXX03HFEN',\n",
       " 'GPXX0435EN',\n",
       " 'GPXX048OEN',\n",
       " 'GPXX04HEEN',\n",
       " 'GPXX04MXEN',\n",
       " 'GPXX04P5EN',\n",
       " 'GPXX04TNEN',\n",
       " 'GPXX04V3EN',\n",
       " 'GPXX04XJEN',\n",
       " 'GPXX05LMEN',\n",
       " 'GPXX05P1EN',\n",
       " 'GPXX05RDEN',\n",
       " 'GPXX06KEEN',\n",
       " 'GPXX06RFEN',\n",
       " 'GPXX06ZLEN',\n",
       " 'GPXX0725EN',\n",
       " 'GPXX0742EN',\n",
       " 'GPXX07REN',\n",
       " 'GPXX07UGEN',\n",
       " 'GPXX07YGEN',\n",
       " 'GPXX08WYEN',\n",
       " 'GPXX097UEN',\n",
       " 'GPXX0A1YEN',\n",
       " 'GPXX0ADEN',\n",
       " 'GPXX0BSAEN',\n",
       " 'GPXX0BUBEN',\n",
       " 'GPXX0D14EN',\n",
       " 'GPXX0E3QEN',\n",
       " 'GPXX0FFCEN',\n",
       " 'GPXX0FTCEN',\n",
       " 'GPXX0G31EN',\n",
       " 'GPXX0G3KEN',\n",
       " 'GPXX0G81EN',\n",
       " 'GPXX0HAAEN',\n",
       " 'GPXX0HC7EN',\n",
       " 'GPXX0HZ2EN',\n",
       " 'GPXX0I4FEN',\n",
       " 'GPXX0IBEN',\n",
       " 'GPXX0IHMEN',\n",
       " 'GPXX0JGFEN',\n",
       " 'GPXX0JLHEN',\n",
       " 'GPXX0JZ4EN',\n",
       " 'GPXX0KHHEN',\n",
       " 'GPXX0KV4EN',\n",
       " 'GPXX0KY1EN',\n",
       " 'GPXX0LLEEN',\n",
       " 'GPXX0M6UEN',\n",
       " 'GPXX0M7ZEN',\n",
       " 'GPXX0MIIEN',\n",
       " 'GPXX0MP0EN',\n",
       " 'GPXX0NHZEN',\n",
       " 'GPXX0PG8EN',\n",
       " 'GPXX0PICEN',\n",
       " 'GPXX0Q8AEN',\n",
       " 'GPXX0QJFEN',\n",
       " 'GPXX0QQ3EN',\n",
       " 'GPXX0QR3EN',\n",
       " 'GPXX0QS6EN',\n",
       " 'GPXX0QTEEN',\n",
       " 'GPXX0QU9EN',\n",
       " 'GPXX0RL8EN',\n",
       " 'GPXX0RQLEN',\n",
       " 'GPXX0SDXEN',\n",
       " 'GPXX0T0FEN',\n",
       " 'GPXX0T3CEN',\n",
       " 'GPXX0TY1EN',\n",
       " 'GPXX0UMSEN',\n",
       " 'GPXX0UN5EN',\n",
       " 'GPXX0W7KEN',\n",
       " 'GPXX0WRDEN',\n",
       " 'GPXX0WTIEN',\n",
       " 'GPXX0XENEN',\n",
       " 'GPXX0XFQEN',\n",
       " 'GPXX0XV3EN',\n",
       " 'GPXX0YBFEN',\n",
       " 'GPXX0YMEEN',\n",
       " 'GPXX0YXHEN',\n",
       " 'GPXX0Z2PEN',\n",
       " 'GPXX0ZG0EN',\n",
       " 'GPXX0ZMZEN',\n",
       " 'GPXX0ZYVEN',\n",
       " 'HCC104EN',\n",
       " 'HCC105EN',\n",
       " 'IT0101EN',\n",
       " 'LB0101ENv1',\n",
       " 'LB0103ENv1',\n",
       " 'LB0105ENv1',\n",
       " 'LB0107ENv1',\n",
       " 'LB0109ENv1',\n",
       " 'LB0111EN',\n",
       " 'ML0101EN',\n",
       " 'ML0103EN',\n",
       " 'ML0109EN',\n",
       " 'ML0111EN',\n",
       " 'ML0120EN',\n",
       " 'ML0120ENv3',\n",
       " 'ML0122EN',\n",
       " 'ML0122ENv3',\n",
       " 'ML0151EN',\n",
       " 'ML0201EN',\n",
       " 'OS0101EN',\n",
       " 'PA0101EN',\n",
       " 'PA0103EN',\n",
       " 'PA0107EN',\n",
       " 'PA0109EN',\n",
       " 'PHPM002EN',\n",
       " 'QC0101EN',\n",
       " 'RAVSCTEST1',\n",
       " 'RP0101EN',\n",
       " 'RP0103',\n",
       " 'RP0103EN',\n",
       " 'RP0105EN',\n",
       " 'RP0151EN',\n",
       " 'SC0101EN',\n",
       " 'SC0103EN',\n",
       " 'SC0105EN',\n",
       " 'SECM03EN',\n",
       " 'SN0111EN',\n",
       " 'ST0201EN',\n",
       " 'ST0301EN',\n",
       " 'SW0101EN',\n",
       " 'SW0201EN',\n",
       " 'TA0105',\n",
       " 'TA0105EN',\n",
       " 'TA0106EN',\n",
       " 'TMP0101EN',\n",
       " 'TMP0105EN',\n",
       " 'TMP0106',\n",
       " 'TMP107',\n",
       " 'WA0101EN',\n",
       " 'WA0103EN',\n",
       " 'excourse01',\n",
       " 'excourse02',\n",
       " 'excourse03',\n",
       " 'excourse04',\n",
       " 'excourse05',\n",
       " 'excourse06',\n",
       " 'excourse07',\n",
       " 'excourse08',\n",
       " 'excourse09',\n",
       " 'excourse10',\n",
       " 'excourse11',\n",
       " 'excourse12',\n",
       " 'excourse13',\n",
       " 'excourse14',\n",
       " 'excourse15',\n",
       " 'excourse16',\n",
       " 'excourse17',\n",
       " 'excourse18',\n",
       " 'excourse19',\n",
       " 'excourse20',\n",
       " 'excourse21',\n",
       " 'excourse22',\n",
       " 'excourse23',\n",
       " 'excourse24',\n",
       " 'excourse25',\n",
       " 'excourse26',\n",
       " 'excourse27',\n",
       " 'excourse28',\n",
       " 'excourse29',\n",
       " 'excourse30',\n",
       " 'excourse31',\n",
       " 'excourse32',\n",
       " 'excourse33',\n",
       " 'excourse34',\n",
       " 'excourse35',\n",
       " 'excourse36',\n",
       " 'excourse37',\n",
       " 'excourse38',\n",
       " 'excourse39',\n",
       " 'excourse40',\n",
       " 'excourse41',\n",
       " 'excourse42',\n",
       " 'excourse43',\n",
       " 'excourse44',\n",
       " 'excourse45',\n",
       " 'excourse46',\n",
       " 'excourse47',\n",
       " 'excourse48',\n",
       " 'excourse49',\n",
       " 'excourse50',\n",
       " 'excourse51',\n",
       " 'excourse52',\n",
       " 'excourse53',\n",
       " 'excourse54',\n",
       " 'excourse55',\n",
       " 'excourse56',\n",
       " 'excourse57',\n",
       " 'excourse58',\n",
       " 'excourse59',\n",
       " 'excourse60',\n",
       " 'excourse61',\n",
       " 'excourse62',\n",
       " 'excourse63',\n",
       " 'excourse64',\n",
       " 'excourse65',\n",
       " 'excourse66',\n",
       " 'excourse67',\n",
       " 'excourse68',\n",
       " 'excourse69',\n",
       " 'excourse70',\n",
       " 'excourse71',\n",
       " 'excourse72',\n",
       " 'excourse73',\n",
       " 'excourse74',\n",
       " 'excourse75',\n",
       " 'excourse76',\n",
       " 'excourse77',\n",
       " 'excourse78',\n",
       " 'excourse79',\n",
       " 'excourse80',\n",
       " 'excourse81',\n",
       " 'excourse82',\n",
       " 'excourse83',\n",
       " 'excourse84',\n",
       " 'excourse85',\n",
       " 'excourse86',\n",
       " 'excourse87',\n",
       " 'excourse88',\n",
       " 'excourse89',\n",
       " 'excourse90',\n",
       " 'excourse91',\n",
       " 'excourse92',\n",
       " 'excourse93'}"
      ]
     },
     "execution_count": 37,
     "metadata": {},
     "output_type": "execute_result"
    }
   ],
   "source": [
    "unknown_courses = all_courses.difference(enrolled_courses)\n",
    "unknown_courses"
   ]
  },
  {
   "cell_type": "markdown",
   "id": "6f6cbd18-65f2-4dc6-b082-9103726da37a",
   "metadata": {},
   "source": [
    "We can get the genre vectors for those unknown courses as well:\n"
   ]
  },
  {
   "cell_type": "code",
   "execution_count": 38,
   "id": "390a53f3-6f57-48ee-a096-6a17b9b99f9c",
   "metadata": {},
   "outputs": [
    {
     "data": {
      "text/plain": [
       "array([[0, 0, 0, ..., 1, 1, 0],\n",
       "       [0, 1, 0, ..., 0, 0, 0],\n",
       "       [0, 0, 0, ..., 1, 1, 0],\n",
       "       ...,\n",
       "       [0, 0, 0, ..., 0, 1, 0],\n",
       "       [0, 0, 0, ..., 1, 1, 0],\n",
       "       [0, 0, 0, ..., 1, 1, 0]])"
      ]
     },
     "execution_count": 38,
     "metadata": {},
     "output_type": "execute_result"
    }
   ],
   "source": [
    "unknown_course_genres = course_genres_df[course_genres_df['COURSE_ID'].isin(unknown_courses)]\n",
    "# Now let's get the course matrix by excluding `COURSE_ID` and `TITLE` columns:\n",
    "course_matrix = unknown_course_genres.iloc[:, 2:].values\n",
    "course_matrix"
   ]
  },
  {
   "cell_type": "markdown",
   "id": "1641ae0c-68da-442a-a776-1eb865dcb4e8",
   "metadata": {},
   "source": [
    "Given the user profile vector for user `1078030`  and all the unseen course genres vectors above, you can use the dot product to calculate the recommendation score for each unknown course. e.g., the recommendation score for course `accelerating deep learning with gpu` is:\n"
   ]
  },
  {
   "cell_type": "code",
   "execution_count": 39,
   "id": "69161fef-f0d8-4544-8068-353e1a7c71a3",
   "metadata": {},
   "outputs": [
    {
     "data": {
      "text/plain": [
       "30.0"
      ]
     },
     "execution_count": 39,
     "metadata": {},
     "output_type": "execute_result"
    }
   ],
   "source": [
    "score = np.dot(course_matrix[1], test_user_vector)\n",
    "score"
   ]
  },
  {
   "cell_type": "markdown",
   "id": "11062732-5046-4f68-b962-4ab0b95a5992",
   "metadata": {},
   "source": [
    "Later, we will need to choose a recommendation score threshold. If the score of any course is above the threshold, we may recommend that course to the user.\n"
   ]
  },
  {
   "cell_type": "markdown",
   "id": "6b8961f9-4e79-444d-ab16-91c3c63c26e6",
   "metadata": {},
   "source": [
    "The workflow can be summarized in the following flowchart:\n"
   ]
  },
  {
   "cell_type": "markdown",
   "id": "091629f3-6a0e-472a-a944-2e75ba17d5be",
   "metadata": {},
   "source": [
    "![](https://cf-courses-data.s3.us.cloud-object-storage.appdomain.cloud/IBM-ML321EN-SkillsNetwork/labs/module_3/images/recommend_courses.png)\n"
   ]
  },
  {
   "cell_type": "markdown",
   "id": "7f8ca0cd-58a4-4549-89e2-5e452b3ad012",
   "metadata": {},
   "source": [
    "Next, let's calculate the recommendation scores of all courses for all the 1000 test users. \n"
   ]
  },
  {
   "cell_type": "code",
   "execution_count": 40,
   "id": "35181795-3742-4575-8839-52f1039c24ae",
   "metadata": {},
   "outputs": [],
   "source": [
    "# Reload the test users dataset from the specified URL using pandas and store it in test_users_df\n",
    "test_users_df = pd.read_csv(test_users_url)\n",
    "\n",
    "# Reload the user profiles dataset from the specified URL containing user profiles and their associated genres using pandas and store it in profile_df\n",
    "profile_df = pd.read_csv(profile_genre_url)\n",
    "\n",
    "# Reload the course genres dataset from the specified URL containing course genres using pandas and store it in course_genres_df\n",
    "course_genres_df = pd.read_csv(course_genre_url)\n",
    "\n",
    "# Create an empty dictionary to store the results of the recommendation process\n",
    "res_dict = {}\n"
   ]
  },
  {
   "cell_type": "markdown",
   "id": "1dd4da3d-c8bd-4dd9-b399-8865503aec3e",
   "metadata": {},
   "source": [
    "We only want to recommend courses with very high scores so we may set a score threshold to filter out those courses with low scores.\n"
   ]
  },
  {
   "cell_type": "code",
   "execution_count": 41,
   "id": "721d4c6c-1246-418a-9872-d1191882e8ff",
   "metadata": {},
   "outputs": [],
   "source": [
    "# Only keep the score larger than the recommendation threshold\n",
    "# The threshold can be fine-tuned to adjust the size of generated recommendations\n",
    "score_threshold = 10.0"
   ]
  },
  {
   "cell_type": "markdown",
   "id": "6c9d067e-3f04-4677-a8bc-d4952ec13cf9",
   "metadata": {},
   "source": [
    "We defined a function called `generate_recommendation_scores()` to compute the recommendation scores of all the unknown courses for all test users.\n"
   ]
  },
  {
   "cell_type": "markdown",
   "id": "9679b78c-2360-49fe-b9af-3a034f65c28b",
   "metadata": {},
   "source": [
    "_TODO: Complete the generate_recommendation_scores() function blow to generate recommendation score for all users. You may also implement the task with different solutions._\n"
   ]
  },
  {
   "cell_type": "code",
   "execution_count": 42,
   "id": "0245373b-a87d-4700-acaf-a2ef1fcd18c1",
   "metadata": {},
   "outputs": [],
   "source": [
    "def generate_recommendation_scores():\n",
    "    \"\"\"\n",
    "    Generate recommendation scores for users and courses.\n",
    "\n",
    "    Returns:\n",
    "    users (list): List of user IDs.\n",
    "    courses (list): List of recommended course IDs.\n",
    "    scores (list): List of recommendation scores.\n",
    "    \"\"\"\n",
    "\n",
    "    users = []      # List to store user IDs\n",
    "    courses = []    # List to store recommended course IDs\n",
    "    scores = []     # List to store recommendation scores\n",
    "\n",
    "    # Iterate over each user ID in the test_user_ids list\n",
    "    for user_id in test_user_ids:\n",
    "        # Get the user profile data for the current user\n",
    "        test_user_profile = profile_df[profile_df['user'] == user_id]\n",
    "\n",
    "        # Get the user vector for the current user id (replace with your method to obtain the user vector)\n",
    "        test_user_vector = test_user_profile.iloc[0, 1:].values\n",
    "\n",
    "        # Get the known course ids for the current user\n",
    "        enrolled_courses = test_users_df[test_users_df['user'] == user_id]['item'].to_list()\n",
    "\n",
    "        # Calculate the unknown course ids\n",
    "        unknown_courses = all_courses.difference(enrolled_courses)\n",
    "\n",
    "        # Filter the course_genres_df to include only unknown courses\n",
    "        unknown_course_df = course_genres_df[course_genres_df['COURSE_ID'].isin(unknown_courses)]\n",
    "        unknown_course_ids = unknown_course_df['COURSE_ID'].values\n",
    "\n",
    "        # Calculate the recommendation scores using dot product\n",
    "        recommendation_scores = np.dot(unknown_course_df.iloc[:, 2:].values, test_user_vector)\n",
    "\n",
    "        # Append the results into the users, courses, and scores list\n",
    "        for i in range(0, len(unknown_course_ids)):\n",
    "            score = recommendation_scores[i]\n",
    "\n",
    "            # Only keep the courses with high recommendation score\n",
    "            if score >= score_threshold:\n",
    "                users.append(user_id)\n",
    "                courses.append(unknown_course_ids[i])\n",
    "                scores.append(recommendation_scores[i])\n",
    "\n",
    "    return users, courses, scores\n"
   ]
  },
  {
   "cell_type": "markdown",
   "id": "195950cc-2aea-448b-94ba-270a86b73621",
   "metadata": {},
   "source": [
    "NOTE: Instead of using some absolute score threshold, you may also try sorting the scores for each user and return the top-ranked courses.\n"
   ]
  },
  {
   "cell_type": "markdown",
   "id": "72753812-ac1a-4229-befe-14da2afb4896",
   "metadata": {},
   "source": [
    "After you have completed the function `generate_recommendation_scores()` above, you can test it and generate recommendation scores and save the courses recommendations into a dataframe with three columns: `USER`, `COURSE_ID`, `SCORE`:\n"
   ]
  },
  {
   "cell_type": "code",
   "execution_count": 43,
   "id": "c91a0e2f-3a29-4007-985b-0e8dd901e212",
   "metadata": {},
   "outputs": [
    {
     "data": {
      "text/html": [
       "<div>\n",
       "<style scoped>\n",
       "    .dataframe tbody tr th:only-of-type {\n",
       "        vertical-align: middle;\n",
       "    }\n",
       "\n",
       "    .dataframe tbody tr th {\n",
       "        vertical-align: top;\n",
       "    }\n",
       "\n",
       "    .dataframe thead th {\n",
       "        text-align: right;\n",
       "    }\n",
       "</style>\n",
       "<table border=\"1\" class=\"dataframe\">\n",
       "  <thead>\n",
       "    <tr style=\"text-align: right;\">\n",
       "      <th></th>\n",
       "      <th>USER</th>\n",
       "      <th>COURSE_ID</th>\n",
       "      <th>SCORE</th>\n",
       "    </tr>\n",
       "  </thead>\n",
       "  <tbody>\n",
       "    <tr>\n",
       "      <th>197</th>\n",
       "      <td>2</td>\n",
       "      <td>excourse72</td>\n",
       "      <td>136.0</td>\n",
       "    </tr>\n",
       "    <tr>\n",
       "      <th>198</th>\n",
       "      <td>2</td>\n",
       "      <td>excourse73</td>\n",
       "      <td>136.0</td>\n",
       "    </tr>\n",
       "    <tr>\n",
       "      <th>27</th>\n",
       "      <td>2</td>\n",
       "      <td>GPXX0IBEN</td>\n",
       "      <td>105.0</td>\n",
       "    </tr>\n",
       "    <tr>\n",
       "      <th>119</th>\n",
       "      <td>2</td>\n",
       "      <td>GPXX0TY1EN</td>\n",
       "      <td>101.0</td>\n",
       "    </tr>\n",
       "    <tr>\n",
       "      <th>158</th>\n",
       "      <td>2</td>\n",
       "      <td>excourse31</td>\n",
       "      <td>99.0</td>\n",
       "    </tr>\n",
       "    <tr>\n",
       "      <th>...</th>\n",
       "      <td>...</td>\n",
       "      <td>...</td>\n",
       "      <td>...</td>\n",
       "    </tr>\n",
       "    <tr>\n",
       "      <th>1500352</th>\n",
       "      <td>2102680</td>\n",
       "      <td>DX0106EN</td>\n",
       "      <td>12.0</td>\n",
       "    </tr>\n",
       "    <tr>\n",
       "      <th>1500380</th>\n",
       "      <td>2102680</td>\n",
       "      <td>GPXX04V3EN</td>\n",
       "      <td>12.0</td>\n",
       "    </tr>\n",
       "    <tr>\n",
       "      <th>1500396</th>\n",
       "      <td>2102680</td>\n",
       "      <td>RP0101EN</td>\n",
       "      <td>12.0</td>\n",
       "    </tr>\n",
       "    <tr>\n",
       "      <th>1500398</th>\n",
       "      <td>2102680</td>\n",
       "      <td>excourse04</td>\n",
       "      <td>12.0</td>\n",
       "    </tr>\n",
       "    <tr>\n",
       "      <th>1500399</th>\n",
       "      <td>2102680</td>\n",
       "      <td>excourse06</td>\n",
       "      <td>12.0</td>\n",
       "    </tr>\n",
       "  </tbody>\n",
       "</table>\n",
       "<p>1500424 rows × 3 columns</p>\n",
       "</div>"
      ],
      "text/plain": [
       "            USER   COURSE_ID  SCORE\n",
       "197            2  excourse72  136.0\n",
       "198            2  excourse73  136.0\n",
       "27             2   GPXX0IBEN  105.0\n",
       "119            2  GPXX0TY1EN  101.0\n",
       "158            2  excourse31   99.0\n",
       "...          ...         ...    ...\n",
       "1500352  2102680    DX0106EN   12.0\n",
       "1500380  2102680  GPXX04V3EN   12.0\n",
       "1500396  2102680    RP0101EN   12.0\n",
       "1500398  2102680  excourse04   12.0\n",
       "1500399  2102680  excourse06   12.0\n",
       "\n",
       "[1500424 rows x 3 columns]"
      ]
     },
     "execution_count": 43,
     "metadata": {},
     "output_type": "execute_result"
    }
   ],
   "source": [
    "# Call the generate_recommendation_scores function to obtain recommendation scores for users and courses,\n",
    "# and assign the returned lists to variables users, courses, and scores\n",
    "users, courses, scores = generate_recommendation_scores()\n",
    "\n",
    "# Create an empty dictionary named res_dict to store the results of the recommendation process\n",
    "res_dict = {}\n",
    "\n",
    "# Store the lists of users, courses, and scores into the res_dict dictionary with corresponding keys\n",
    "res_dict['USER'] = users\n",
    "res_dict['COURSE_ID'] = courses\n",
    "res_dict['SCORE'] = scores\n",
    "\n",
    "# Create a DataFrame named res_df using the res_dict dictionary, specifying the column order as ['USER', 'COURSE_ID', 'SCORE']\n",
    "res_df = pd.DataFrame(res_dict, columns=['USER', 'COURSE_ID', 'SCORE'])\n",
    "\n",
    "# Sort the DataFrame by 'USER' and 'SCORE' in descending order\n",
    "res_df = res_df.sort_values(by=['USER', 'SCORE'], ascending=[True, False])\n",
    "\n",
    "# Save the res_df DataFrame to a CSV file named \"profile_rs_results.csv\" without including the index\n",
    "res_df.to_csv(\"profile_rs_results.csv\", index=False)\n",
    "\n",
    "# Output the res_df DataFrame\n",
    "res_df\n"
   ]
  },
  {
   "cell_type": "code",
   "execution_count": 44,
   "metadata": {},
   "outputs": [
    {
     "name": "stdout",
     "output_type": "stream",
     "text": [
      "On average, each user was recommended 60.82 new/unseen courses.\n"
     ]
    }
   ],
   "source": [
    "# Group by user and count the recommended courses\n",
    "recommended_courses_per_user = res_df.groupby('USER').size()\n",
    "\n",
    "# Calculate the average number of recommended courses per user\n",
    "average_recommended_courses = recommended_courses_per_user.mean()\n",
    "\n",
    "print(f\"On average, each user was recommended {average_recommended_courses:.2f} new/unseen courses.\")"
   ]
  },
  {
   "cell_type": "code",
   "execution_count": 45,
   "metadata": {},
   "outputs": [
    {
     "name": "stdout",
     "output_type": "stream",
     "text": [
      "Top 10 Most Frequently Recommended Courses:\n",
      "COURSE_ID\n",
      "TA0106EN      17390\n",
      "excourse22    15656\n",
      "excourse21    15656\n",
      "GPXX0IBEN     15644\n",
      "ML0122EN      15603\n",
      "excourse04    15062\n",
      "excourse06    15062\n",
      "GPXX0TY1EN    14689\n",
      "excourse73    14464\n",
      "excourse72    14464\n",
      "Name: count, dtype: int64\n"
     ]
    }
   ],
   "source": [
    "# Find the top 10 most frequently recommended courses\n",
    "top_10_courses = res_df['COURSE_ID'].value_counts().head(10)\n",
    "\n",
    "print(\"Top 10 Most Frequently Recommended Courses:\")\n",
    "print(top_10_courses)"
   ]
  },
  {
   "cell_type": "code",
   "execution_count": 46,
   "metadata": {},
   "outputs": [
    {
     "data": {
      "image/png": "[encoded data removed]",
      "text/plain": [
       "<Figure size 1000x600 with 1 Axes>"
      ]
     },
     "metadata": {},
     "output_type": "display_data"
    }
   ],
   "source": [
    "import matplotlib.pyplot as plt\n",
    "\n",
    "# Histograma de los puntajes de recomendación\n",
    "plt.figure(figsize=(10, 6))\n",
    "plt.hist(res_df['SCORE'], bins=30, color='skyblue', edgecolor='black')\n",
    "plt.title('Distribution of Recommendation Scores', fontsize=14)\n",
    "plt.xlabel('Recommendation Score', fontsize=12)\n",
    "plt.ylabel('Frequency', fontsize=12)\n",
    "plt.grid(True)\n",
    "plt.show()"
   ]
  },
  {
   "cell_type": "code",
   "execution_count": 47,
   "metadata": {},
   "outputs": [
    {
     "data": {
      "image/png": "[encoded data removed]",
      "text/plain": [
       "<Figure size 1000x600 with 1 Axes>"
      ]
     },
     "metadata": {},
     "output_type": "display_data"
    }
   ],
   "source": [
    "# Obtener los 10 cursos más recomendados\n",
    "top_10_courses = res_df['COURSE_ID'].value_counts().head(10)\n",
    "\n",
    "# Gráfico de barras\n",
    "plt.figure(figsize=(10, 6))\n",
    "top_10_courses.plot(kind='bar', color='lightcoral', edgecolor='black')\n",
    "plt.title('Top 10 Most Recommended Courses', fontsize=14)\n",
    "plt.xlabel('Course ID', fontsize=12)\n",
    "plt.ylabel('Number of Recommendations', fontsize=12)\n",
    "plt.xticks(rotation=45, ha='right')\n",
    "plt.grid(axis='y', linestyle='--')\n",
    "plt.show()"
   ]
  },
  {
   "cell_type": "markdown",
   "id": "b76a1bf1-2103-44fc-a8fd-04e65fc9d6dd",
   "metadata": {},
   "source": [
    "Your recommendation results may look like the following screenshot:\n"
   ]
  },
  {
   "cell_type": "markdown",
   "id": "2489d212-7ce7-47d2-b413-ea1378f7c737",
   "metadata": {},
   "source": [
    "![](https://cf-courses-data.s3.us.cloud-object-storage.appdomain.cloud/IBM-ML321EN-SkillsNetwork/labs/module_3/images/recommendation_scores.png)\n"
   ]
  },
  {
   "cell_type": "markdown",
   "id": "5a004020-1e2e-472b-8521-f7a6c4e758fd",
   "metadata": {},
   "source": [
    "With the course recommendation list generated for each test user, you also need to perform some analytic tasks to answer the following two questions:\n"
   ]
  },
  {
   "cell_type": "markdown",
   "id": "8489e43e-e810-410b-9c89-691c4ce02af7",
   "metadata": {},
   "source": [
    "- On average, how many new courses have been recommended per test user?\n",
    "- What are the most frequently recommended courses? Return the top-10 commonly recommended courses across all test users.\n"
   ]
  },
  {
   "cell_type": "markdown",
   "id": "026e220a-6b9d-4462-84ce-9b0fb7c2c92d",
   "metadata": {},
   "source": [
    "For example, suppose we have only 3 test users, each user receives the following course recommendations:\n"
   ]
  },
  {
   "cell_type": "markdown",
   "id": "7929946d-31b5-4ea2-b03b-7da5d7a2cd98",
   "metadata": {},
   "source": [
    "- User1: ['course1', 'course2']\n",
    "- User2: ['course3', 'course4']\n",
    "- User3: ['course3', 'course4', 'course5']\n"
   ]
  },
  {
   "cell_type": "markdown",
   "id": "1c6d3fd6-aa3a-409e-9a8f-db65fa2bb415",
   "metadata": {},
   "source": [
    "Then, the average recommended courses per user is: $(2 + 2 + 3) / 3 = 2.33$. The top-2 recommended courses are: `course3`: 2 times, and `course4`: 2 times.\n"
   ]
  },
  {
   "cell_type": "markdown",
   "id": "4bd476b8-a378-4081-a8dd-a6b1dfb8fc4b",
   "metadata": {},
   "source": [
    "Note that the answers may depend on your score threshold. A lower score threshold yields more recommended courses but with smaller confidence so that some test users may receive very long course recommendation lists and feel overwhelmed. \n",
    "\n",
    "Ideally, we should limit the maximum course recommendations to be less than 20 courses per user. As such, the average course recommendations per user should also be less than 20 or so. This makes sure we only recommend relevant courses with high confidence (score).\n"
   ]
  },
  {
   "cell_type": "markdown",
   "id": "9060b949-adb1-467b-bd7c-7f4e8fc16e8d",
   "metadata": {},
   "source": [
    "### Summary\n"
   ]
  },
  {
   "cell_type": "markdown",
   "id": "b9908793-df5c-404c-bcc8-0ffe188b1202",
   "metadata": {},
   "source": [
    "In this lab, you first learned how to generate a user profile vector based on the user's course ratings and course genre vectors. Then, with the user profile generated, you applied a simple dot product between the user profile vector and the course genre vector to generate a course recommendation score. \n",
    "\n",
    "The idea is if a user is interested in certain topics (genres) and if a course also has similar topics (genres), which means the user vector and course genre vector share common dimensions, and a dot product is able to capture such similarity.\n"
   ]
  },
  {
   "cell_type": "markdown",
   "id": "21ef212e-ca1c-427c-b308-65528acd81f1",
   "metadata": {},
   "source": [
    "## Authors\n"
   ]
  },
  {
   "cell_type": "markdown",
   "id": "800565c8-bbdd-469d-972d-f4c4c3c95be3",
   "metadata": {},
   "source": [
    "[Yan Luo](https://www.linkedin.com/in/yan-luo-96288783/)\n"
   ]
  },
  {
   "cell_type": "markdown",
   "id": "71049221-d6f9-4279-8994-b019f09eb3e6",
   "metadata": {},
   "source": [
    "### Other Contributors\n"
   ]
  },
  {
   "cell_type": "markdown",
   "id": "cf56899a-db37-4f4f-94b5-cd2d13226b9d",
   "metadata": {},
   "source": [
    "```toggle## Change Log\n",
    "```\n"
   ]
  },
  {
   "cell_type": "markdown",
   "id": "257c9398-ea25-4d97-9739-87c2c0069c2e",
   "metadata": {},
   "source": [
    "```toggle|Date (YYYY-MM-DD)|Version|Changed By|Change Description|\n",
    "```\n",
    "```toggle|-|-|-|-|\n",
    "```\n",
    "```toggle|2021-10-25|1.0|Yan|Created the initial version|\n",
    "```\n"
   ]
  }
 ],
 "metadata": {
  "kernelspec": {
   "display_name": "aiadventures",
   "language": "python",
   "name": "python3"
  },
  "language_info": {
   "codemirror_mode": {
    "name": "ipython",
    "version": 3
   },
   "file_extension": ".py",
   "mimetype": "text/x-python",
   "name": "python",
   "nbconvert_exporter": "python",
   "pygments_lexer": "ipython3",
   "version": "3.12.3"
  },
  "prev_pub_hash": "d221817f23a26ce6b7063851feeafdac82e3bc6523b5e731b550447de1abe81c"
 },
 "nbformat": 4,
 "nbformat_minor": 4
}
